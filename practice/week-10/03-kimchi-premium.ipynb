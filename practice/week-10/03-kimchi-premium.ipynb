{
 "cells": [
  {
   "cell_type": "markdown",
   "metadata": {},
   "source": [
    "# 김치프리미엄 리포터"
   ]
  },
  {
   "cell_type": "code",
   "execution_count": null,
   "metadata": {},
   "outputs": [],
   "source": [
    "import requests, json, pprint"
   ]
  },
  {
   "cell_type": "markdown",
   "metadata": {},
   "source": [
    "## 한국 시장의 비트코인 가격"
   ]
  },
  {
   "cell_type": "code",
   "execution_count": null,
   "metadata": {},
   "outputs": [],
   "source": [
    "url = 'https://api.coinone.co.kr/ticker?currency=BTC'\n",
    "res = requests.get(url)\n",
    "data = json.loads(res.text)\n",
    "\n",
    "pprint.pprint(data)"
   ]
  },
  {
   "cell_type": "code",
   "execution_count": null,
   "metadata": {},
   "outputs": [],
   "source": [
    "#TODO\n",
    "korean_price = 0"
   ]
  },
  {
   "cell_type": "markdown",
   "metadata": {},
   "source": [
    "## 글로벌 시장의 비트코인 가격"
   ]
  },
  {
   "cell_type": "code",
   "execution_count": null,
   "metadata": {},
   "outputs": [],
   "source": [
    "res = requests.get('https://api.bybit.com/v2/public/tickers?symbol=BTCUSD')\n",
    "data = json.loads(res.text)\n",
    "pprint.pprint(data)"
   ]
  },
  {
   "cell_type": "code",
   "execution_count": null,
   "metadata": {},
   "outputs": [],
   "source": [
    "#TODO\n",
    "international_price = 0"
   ]
  },
  {
   "cell_type": "markdown",
   "metadata": {},
   "source": [
    "## 환율 구하기"
   ]
  },
  {
   "cell_type": "code",
   "execution_count": null,
   "metadata": {},
   "outputs": [],
   "source": [
    "url = 'http://api.manana.kr/exchange/rate/KRW/USD.json'\n",
    "res = requests.get(url)\n",
    "data = json.loads(res.text)\n",
    "pprint.pprint(data)"
   ]
  },
  {
   "cell_type": "code",
   "execution_count": null,
   "metadata": {},
   "outputs": [],
   "source": [
    "#TODO\n",
    "exchange_rate = 1"
   ]
  },
  {
   "cell_type": "markdown",
   "metadata": {},
   "source": [
    "## Q. 김치 프리미엄을 매분마다 전송하는 봇 만들기"
   ]
  },
  {
   "cell_type": "code",
   "execution_count": null,
   "metadata": {},
   "outputs": [],
   "source": [
    "## 김치프리미엄 계산하기\n",
    "def get_korean_price():\n",
    "    #TODO\n",
    "    return 0\n",
    "def get_international_price():\n",
    "    #TODO\n",
    "    return 0\n",
    "def get_exchange_rate():\n",
    "    #TODO\n",
    "    \n",
    "    return 0\n",
    "def kimchi_premium():\n",
    "    korean_price = get_korean_price()\n",
    "    international_price = get_international_price()\n",
    "    ex_rate = get_exchange_rate()\n",
    "    \n",
    "    premium = 100*(korean_price - international_price*ex_rate)/(international_price*ex_rate)\n",
    "    return premium"
   ]
  },
  {
   "cell_type": "code",
   "execution_count": null,
   "metadata": {},
   "outputs": [],
   "source": [
    "premium = kimchi_premium()\n",
    "premium\n"
   ]
  },
  {
   "cell_type": "code",
   "execution_count": null,
   "metadata": {},
   "outputs": [],
   "source": [
    "def send_message(premium)\n",
    "\n",
    "    message = '현재 김치 프리미엄은 `{}%`입니다.'\n",
    "    url='<YOUR_SLACK_HOOK_URL>'\n",
    "\n",
    "    data = {\n",
    "        \"text\": message\n",
    "    }\n",
    "    res = requests.post(url, data=json.dumps(data))\n",
    "    print(res)\n",
    "send_message(premium)"
   ]
  },
  {
   "cell_type": "code",
   "execution_count": null,
   "metadata": {},
   "outputs": [],
   "source": [
    "## TODO 매분 보내는 로직 짜기"
   ]
  },
  {
   "cell_type": "code",
   "execution_count": null,
   "metadata": {},
   "outputs": [],
   "source": []
  }
 ],
 "metadata": {
  "kernelspec": {
   "display_name": "Python 3",
   "language": "python",
   "name": "python3"
  },
  "language_info": {
   "codemirror_mode": {
    "name": "ipython",
    "version": 3
   },
   "file_extension": ".py",
   "mimetype": "text/x-python",
   "name": "python",
   "nbconvert_exporter": "python",
   "pygments_lexer": "ipython3",
   "version": "3.7.6"
  }
 },
 "nbformat": 4,
 "nbformat_minor": 4
}
