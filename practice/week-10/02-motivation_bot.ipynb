{
 "cells": [
  {
   "cell_type": "markdown",
   "metadata": {},
   "source": [
    "## 동기부여 메시지를 보내주는 앱을 만들어 보기"
   ]
  },
  {
   "cell_type": "code",
   "execution_count": null,
   "metadata": {},
   "outputs": [],
   "source": [
    "import requests, pprint, json"
   ]
  },
  {
   "cell_type": "markdown",
   "metadata": {},
   "source": [
    "### 1. 랜덤 명언 가져오기"
   ]
  },
  {
   "cell_type": "code",
   "execution_count": null,
   "metadata": {},
   "outputs": [],
   "source": [
    "\n",
    "url = 'https://api.quotable.io/random'\n",
    "res = requests.get(url)\n",
    "data = json.loads(res.text)\n",
    "pprint.pprint(data)"
   ]
  },
  {
   "cell_type": "markdown",
   "metadata": {},
   "source": [
    "### 2. 랜덤 이미지 가져오기"
   ]
  },
  {
   "cell_type": "code",
   "execution_count": null,
   "metadata": {},
   "outputs": [],
   "source": [
    "import IPython.display as Disp\n",
    "url = 'https://source.unsplash.com/random/400x400'\n",
    "res = requests.get(url)\n",
    "Disp.Image(res.content)"
   ]
  },
  {
   "cell_type": "code",
   "execution_count": null,
   "metadata": {},
   "outputs": [],
   "source": [
    "#하지만 실제 주소는 \n",
    "res.url"
   ]
  },
  {
   "cell_type": "markdown",
   "metadata": {},
   "source": [
    "## Q. 위의 API들을 활용하여, 아래의 함수를 완성하여 동기부여가 되는 말을 사진과 함께 슬랙에 보내주세요!"
   ]
  },
  {
   "cell_type": "code",
   "execution_count": null,
   "metadata": {},
   "outputs": [],
   "source": [
    "def gen_quote():\n",
    "\n",
    "    author = ''\n",
    "    content = ''\n",
    "    return author, content\n",
    "\n",
    "def gen_image():\n",
    "    url = ''\n",
    "    return url\n",
    "\n",
    "\n",
    "def gen_message():\n",
    "    author, content = gen_quote()\n",
    "    url = gen_image()\n",
    "    \n",
    "    message = '`{}` Says\\n> {} \\n<{}|image>'.format(author, content,url)\n",
    "    \n",
    "    return message\n",
    "\n",
    "def send_message(message):\n",
    "    url='<YOUR_SLACK_HOOK_URL>'\n",
    "\n",
    "    data = {\n",
    "        \"text\": message\n",
    "    }\n",
    "    res = requests.post(url, data=json.dumps(data))\n",
    "    print(res)\n",
    "    \n",
    "    \n"
   ]
  },
  {
   "cell_type": "code",
   "execution_count": null,
   "metadata": {},
   "outputs": [],
   "source": [
    "message = gen_message()\n",
    "send_message(message)"
   ]
  },
  {
   "cell_type": "markdown",
   "metadata": {},
   "source": [
    "### Q. 1분마다 메시지 보내기"
   ]
  },
  {
   "cell_type": "code",
   "execution_count": null,
   "metadata": {},
   "outputs": [],
   "source": [
    "import time\n",
    "\n",
    "while True:\n",
    "    #TODO\n",
    "    print(\"보냄!\")\n",
    "    time.sleep(60)"
   ]
  },
  {
   "cell_type": "code",
   "execution_count": null,
   "metadata": {},
   "outputs": [],
   "source": []
  }
 ],
 "metadata": {
  "kernelspec": {
   "display_name": "Python 3",
   "language": "python",
   "name": "python3"
  },
  "language_info": {
   "codemirror_mode": {
    "name": "ipython",
    "version": 3
   },
   "file_extension": ".py",
   "mimetype": "text/x-python",
   "name": "python",
   "nbconvert_exporter": "python",
   "pygments_lexer": "ipython3",
   "version": "3.7.6"
  }
 },
 "nbformat": 4,
 "nbformat_minor": 4
}
