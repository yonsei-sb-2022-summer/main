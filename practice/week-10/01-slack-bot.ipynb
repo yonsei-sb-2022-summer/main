{
 "cells": [
  {
   "cell_type": "markdown",
   "metadata": {},
   "source": [
    "## 1. Slack에 Hello 메시지 보내기"
   ]
  },
  {
   "cell_type": "code",
   "execution_count": null,
   "metadata": {},
   "outputs": [],
   "source": [
    "import requests, json\n",
    "\n",
    "\n",
    "url='<YOUR_SLACK_HOOK_URL>'\n",
    "data = {\n",
    "    \"text\": 'Hello'\n",
    "}\n",
    "res = requests.post(url, data=json.dumps(data))"
   ]
  },
  {
   "cell_type": "code",
   "execution_count": null,
   "metadata": {},
   "outputs": [],
   "source": [
    "res.text"
   ]
  },
  {
   "cell_type": "markdown",
   "metadata": {},
   "source": [
    "## 2. 예쁘게 텍스트 꾸며서 보내기"
   ]
  },
  {
   "cell_type": "markdown",
   "metadata": {},
   "source": [
    "### 2-1 특정 단어 강조하기"
   ]
  },
  {
   "cell_type": "code",
   "execution_count": null,
   "metadata": {},
   "outputs": [],
   "source": [
    "message = 'This is a sentence with some `inline code` in it.'\n",
    "\n",
    "data = {\n",
    "    \"text\": message\n",
    "}\n",
    "res = requests.post(url, data=json.dumps(data))"
   ]
  },
  {
   "cell_type": "markdown",
   "metadata": {},
   "source": [
    "### 다음 메시지를 보내보세요!\n",
    "message: 안녕하세요 제 이름은 `000`입니다"
   ]
  },
  {
   "cell_type": "code",
   "execution_count": null,
   "metadata": {},
   "outputs": [],
   "source": [
    "message = ''\n",
    "\n",
    "data = {\n",
    "    \"text\": message\n",
    "}\n",
    "res = requests.post(url, data=json.dumps(data))"
   ]
  },
  {
   "cell_type": "markdown",
   "metadata": {},
   "source": [
    "### 2-2. 리스트 형태로 보내기"
   ]
  },
  {
   "cell_type": "code",
   "execution_count": null,
   "metadata": {},
   "outputs": [],
   "source": [
    "\n",
    "message = '- Detective Chimp\\n- Bouncing Boy\\n- Aqualad'\n",
    "\n",
    "data = {\n",
    "    \"text\": message\n",
    "}\n",
    "res = requests.post(url, data=json.dumps(data))\n"
   ]
  },
  {
   "cell_type": "markdown",
   "metadata": {},
   "source": [
    "### 다음과 같은 메시지를 보내보세요!\n",
    "message: <br>\n",
    "– 날짜: 2021-05-15<br>\n",
    "– 지역: 서울<br>\n",
    "– 날씨: 맑음"
   ]
  },
  {
   "cell_type": "code",
   "execution_count": null,
   "metadata": {},
   "outputs": [],
   "source": [
    "from datetime import datetime\n",
    "today = datetime.today().date()\n",
    "\n",
    "message = ''\n",
    "data = {\n",
    "    \"text\": message\n",
    "}\n",
    "res = requests.post(url, data=json.dumps(data))"
   ]
  },
  {
   "cell_type": "markdown",
   "metadata": {},
   "source": [
    "### 2-3. 들여쓰기"
   ]
  },
  {
   "cell_type": "code",
   "execution_count": null,
   "metadata": {},
   "outputs": [],
   "source": [
    "\n",
    "message = 'This is unquoted text\\n>This is quoted text\\n>This is still quoted text\\nThis is unquoted text again'\n",
    "\n",
    "data = {\n",
    "    \"text\": message\n",
    "}\n",
    "res = requests.post(url, data=json.dumps(data))\n"
   ]
  },
  {
   "cell_type": "markdown",
   "metadata": {},
   "source": [
    "### 다음과 같은 메시지를 보내보세요!\n",
    "message: <br>\n",
    "스티브 잡스\n",
    "> Think Different"
   ]
  },
  {
   "cell_type": "code",
   "execution_count": null,
   "metadata": {},
   "outputs": [],
   "source": [
    "message = ''\n",
    "\n",
    "data = {\n",
    "    \"text\": message\n",
    "}\n",
    "res = requests.post(url, data=json.dumps(data))"
   ]
  },
  {
   "cell_type": "markdown",
   "metadata": {},
   "source": [
    "### 2-4 이미지 보내기"
   ]
  },
  {
   "cell_type": "code",
   "execution_count": null,
   "metadata": {},
   "outputs": [],
   "source": [
    "data = {\n",
    "    \"text\": 'https://www.yonsei.ac.kr/_attach/image/sc/2021/05/thumb_1a93ed1615329aa797eaa8a45facf5e8.jpg'\n",
    "}\n",
    "res = requests.post(url, data=json.dumps(data))"
   ]
  },
  {
   "cell_type": "code",
   "execution_count": null,
   "metadata": {},
   "outputs": [],
   "source": [
    "import random\n",
    "random_key = random.randint(0,10000)\n",
    "data = {\n",
    "    \"text\": 'https://www.yonsei.ac.kr/_attach/image/sc/2021/05/thumb_1a93ed1615329aa797eaa8a45facf5e8.jpg?test={}'.format(random_key)\n",
    "}\n",
    "res = requests.post(url, data=json.dumps(data))"
   ]
  },
  {
   "cell_type": "code",
   "execution_count": null,
   "metadata": {},
   "outputs": [],
   "source": [
    "#링크 대신 글자로 바꾸기\n",
    "import random\n",
    "random_key = random.randint(0,10000)\n",
    "data = {\n",
    "    \"text\": '<https://www.yonsei.ac.kr/_attach/image/sc/2021/05/thumb_1a93ed1615329aa797eaa8a45facf5e8.jpg?test={}|주소가리기>'.format(random_key)\n",
    "}\n",
    "res = requests.post(url, data=json.dumps(data))"
   ]
  },
  {
   "cell_type": "markdown",
   "metadata": {},
   "source": [
    "#### 다음 이미지를 보내보세요! \n",
    "단 주소는 `이미지`라는 글자로 바꿔서 보내주세요"
   ]
  },
  {
   "cell_type": "code",
   "execution_count": null,
   "metadata": {},
   "outputs": [],
   "source": [
    "image_url = 'https://images.unsplash.com/photo-1593642532400-2682810df593?ixid=MnwxMjA3fDF8MHxwaG90by1wYWdlfHx8fGVufDB8fHx8&ixlib=rb-1.2.1&auto=format&fit=crop&w=1500&q=80'\n",
    "\n",
    "import random\n",
    "random_key = random.randint(0,10000)\n",
    "\n",
    "data = {\n",
    "    \"text\": ''\n",
    "}\n",
    "res = requests.post(url, data=json.dumps(data))"
   ]
  }
 ],
 "metadata": {
  "kernelspec": {
   "display_name": "Python 3",
   "language": "python",
   "name": "python3"
  },
  "language_info": {
   "codemirror_mode": {
    "name": "ipython",
    "version": 3
   },
   "file_extension": ".py",
   "mimetype": "text/x-python",
   "name": "python",
   "nbconvert_exporter": "python",
   "pygments_lexer": "ipython3",
   "version": "3.7.6"
  }
 },
 "nbformat": 4,
 "nbformat_minor": 4
}
