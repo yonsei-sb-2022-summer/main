{
 "cells": [
  {
   "cell_type": "markdown",
   "metadata": {},
   "source": [
    "# BIG DATA ANALYSIS : Python Basic\n",
    "---"
   ]
  },
  {
   "cell_type": "code",
   "execution_count": 1,
   "metadata": {},
   "outputs": [
    {
     "name": "stdout",
     "output_type": "stream",
     "text": [
      "나는 학생이다.\n"
     ]
    }
   ],
   "source": [
    "# 일반적인 boolean 변수를 이용한 조건문\n",
    "is_student = True\n",
    "if is_student :\n",
    "    print('나는 학생이다.')\n",
    "else:\n",
    "    print('나는 학생이 아니다.')"
   ]
  },
  {
   "cell_type": "code",
   "execution_count": 2,
   "metadata": {},
   "outputs": [
    {
     "name": "stdout",
     "output_type": "stream",
     "text": [
      "a is 0\n",
      "b is not 0\n"
     ]
    }
   ],
   "source": [
    "# 정수형 변수에 의한 조건문\n",
    "a = 0\n",
    "b = 3\n",
    "if a :\n",
    "    print('a is not 0')\n",
    "else :\n",
    "    print('a is 0')\n",
    "\n",
    "if b :\n",
    "    print('b is not 0')\n",
    "else :\n",
    "    print('b is 0')"
   ]
  },
  {
   "cell_type": "code",
   "execution_count": 3,
   "metadata": {},
   "outputs": [
    {
     "name": "stdout",
     "output_type": "stream",
     "text": [
      "Something is not in a\n",
      "Something is in b\n",
      "h is in b\n"
     ]
    }
   ],
   "source": [
    "# 문자열 변수에 의한 조건문\n",
    "\n",
    "a = \"\"\n",
    "b = \"hello\"\n",
    "\n",
    "if a :\n",
    "    print(\"Something is in a\")\n",
    "else:\n",
    "    print(\"Something is not in a\")\n",
    "    \n",
    "if b :\n",
    "    print(\"Something is in b\")\n",
    "else:\n",
    "    print(\"Something is not in b\")\n",
    "\n",
    "if 'h' in b:\n",
    "    print('h is in b')\n"
   ]
  },
  {
   "cell_type": "code",
   "execution_count": 4,
   "metadata": {},
   "outputs": [
    {
     "name": "stdout",
     "output_type": "stream",
     "text": [
      "a is empty\n",
      "b is not empty\n",
      "1 is in b\n"
     ]
    }
   ],
   "source": [
    "# 리스트형 변수에 의한 조건문\n",
    "a = []\n",
    "b = [1,2,3]\n",
    "\n",
    "if a :\n",
    "    print(\"a is not empty\")\n",
    "else :\n",
    "    print(\"a is empty\")\n",
    "    \n",
    "if b :\n",
    "    print(\"b is not empty\")\n",
    "else :\n",
    "    print(\"b is empty\")\n",
    "    \n",
    "if 1 in b:\n",
    "    print(\"1 is in b\")"
   ]
  },
  {
   "cell_type": "code",
   "execution_count": 5,
   "metadata": {},
   "outputs": [
    {
     "name": "stdout",
     "output_type": "stream",
     "text": [
      "dict a is empty\n",
      "Korea is in b\n"
     ]
    }
   ],
   "source": [
    "a = {}\n",
    "b = {\"Korea\":10, \"China\":0}\n",
    "\n",
    "if a :\n",
    "    print(\"dict a is not empty\")\n",
    "else :\n",
    "    print(\"dict a is empty\")\n",
    "\n",
    "if \"Korea\" in b:\n",
    "    print(\"Korea is in b\")"
   ]
  },
  {
   "cell_type": "code",
   "execution_count": 6,
   "metadata": {},
   "outputs": [
    {
     "name": "stdout",
     "output_type": "stream",
     "text": [
      "False\n"
     ]
    }
   ],
   "source": [
    "is_empty = True\n",
    "x = [1,2,3,4]\n",
    "if x :\n",
    "    is_empty = False\n",
    "else:\n",
    "    is_empty = True\n",
    "print(is_empty)"
   ]
  },
  {
   "cell_type": "code",
   "execution_count": 7,
   "metadata": {},
   "outputs": [
    {
     "name": "stdout",
     "output_type": "stream",
     "text": [
      "False\n"
     ]
    }
   ],
   "source": [
    "# 한 줄로 처리하기\n",
    "is_empty = False if x else True\n",
    "print(is_empty)"
   ]
  },
  {
   "cell_type": "code",
   "execution_count": 8,
   "metadata": {},
   "outputs": [
    {
     "name": "stdout",
     "output_type": "stream",
     "text": [
      "100 는 짝수다\n",
      "100 는 양수다\n"
     ]
    }
   ],
   "source": [
    "# 중첩된 조건문\n",
    "a = 100\n",
    "if a % 2 == 0:\n",
    "    print(a,'는 짝수다')\n",
    "    if a>0:\n",
    "        print(a,'는 양수다')\n",
    "    elif a==0:\n",
    "        print(a,'는 0이다')\n",
    "    else:\n",
    "        print(a,'는 음수다')\n",
    "else:\n",
    "    print(a,'는 홀수다')\n",
    "    if a>0:\n",
    "        print(a,'는 양수다')\n",
    "    else:\n",
    "        print(a,'는 음수다')\n",
    "    "
   ]
  },
  {
   "cell_type": "code",
   "execution_count": 9,
   "metadata": {},
   "outputs": [
    {
     "name": "stdout",
     "output_type": "stream",
     "text": [
      "여기 2\n",
      "4 는 5이하이거나 홀수다\n"
     ]
    }
   ],
   "source": [
    "## and/or 로 여러 조건을 동시에 포함\n",
    "a = 4\n",
    "\n",
    "if a%2 == 0 and a>5:\n",
    "    print(\"여기 1\")\n",
    "    print(a,'는 5초과이며 짝수다')\n",
    "else:\n",
    "    print(\"여기 2\")\n",
    "    print(a,'는 5이하이거나 홀수다')"
   ]
  },
  {
   "cell_type": "code",
   "execution_count": 10,
   "metadata": {},
   "outputs": [
    {
     "name": "stdout",
     "output_type": "stream",
     "text": [
      "여기 1\n",
      "4 는 5초과이거나 짝수다\n"
     ]
    }
   ],
   "source": [
    "a = 4\n",
    "\n",
    "if a%2 == 0 or a>5:\n",
    "    print(\"여기 1\")\n",
    "    print(a,'는 5초과이거나 짝수다')\n",
    "else:\n",
    "    print(\"여기 2\")\n",
    "    print(a,'는 5이하이며 홀수다')"
   ]
  },
  {
   "cell_type": "code",
   "execution_count": 11,
   "metadata": {},
   "outputs": [
    {
     "name": "stdout",
     "output_type": "stream",
     "text": [
      "농구\n"
     ]
    }
   ],
   "source": [
    "# collection 타입과 관련된 If else문\n",
    "members = ['흥민', '연아', '세리','찬호']\n",
    "\n",
    "if len(members)<=1:\n",
    "    print(\"집에서 쉬기\")\n",
    "elif len(members)%2 == 0:\n",
    "    print(\"농구\")\n",
    "else:\n",
    "    print(\"달리기\")\n",
    "    "
   ]
  },
  {
   "cell_type": "markdown",
   "metadata": {},
   "source": [
    "### Q. 남자 또는 서울 사람은 나의 고객일때 or 연산을 활용하여 다음의 조건문을 완성하세요!"
   ]
  },
  {
   "cell_type": "code",
   "execution_count": 12,
   "metadata": {},
   "outputs": [
    {
     "name": "stdout",
     "output_type": "stream",
     "text": [
      "내 고객이 아님\n"
     ]
    }
   ],
   "source": [
    "\n",
    "a = '서울_남_100'\n",
    "a_list = a.split('_')\n",
    "if False:\n",
    "    print('내 고객임')\n",
    "print('내 고객이 아님')\n",
    "\n"
   ]
  },
  {
   "cell_type": "code",
   "execution_count": null,
   "metadata": {},
   "outputs": [],
   "source": []
  }
 ],
 "metadata": {
  "kernelspec": {
   "display_name": "Python 3",
   "language": "python",
   "name": "python3"
  },
  "language_info": {
   "codemirror_mode": {
    "name": "ipython",
    "version": 3
   },
   "file_extension": ".py",
   "mimetype": "text/x-python",
   "name": "python",
   "nbconvert_exporter": "python",
   "pygments_lexer": "ipython3",
   "version": "3.7.6"
  }
 },
 "nbformat": 4,
 "nbformat_minor": 4
}
