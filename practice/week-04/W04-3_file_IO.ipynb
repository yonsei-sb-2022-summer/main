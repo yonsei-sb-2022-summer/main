{
 "cells": [
  {
   "cell_type": "markdown",
   "metadata": {},
   "source": [
    "# BIG DATA ANALYSIS : Python Basic\n",
    "---"
   ]
  },
  {
   "cell_type": "code",
   "execution_count": 8,
   "metadata": {},
   "outputs": [
    {
     "name": "stdout",
     "output_type": "stream",
     "text": [
      "s\n"
     ]
    }
   ],
   "source": [
    "a = input()\n",
    "print(\"입력값은 {}입니다\".format(a))"
   ]
  },
  {
   "cell_type": "code",
   "execution_count": 10,
   "metadata": {},
   "outputs": [
    {
     "name": "stdout",
     "output_type": "stream",
     "text": [
      "1\n",
      "입력값은 1입니다\n",
      "2\n",
      "입력값은 2입니다\n",
      "3\n",
      "입력값은 3입니다\n",
      "4\n",
      "입력값은 4입니다\n",
      "5\n",
      "입력값은 5입니다\n",
      "6\n",
      "입력값은 6입니다\n",
      "0\n",
      "입력 종료\n"
     ]
    }
   ],
   "source": [
    "\n",
    "while True:\n",
    "    a = input()\n",
    "    if a == '0':\n",
    "        print('입력 종료')\n",
    "        break\n",
    "    print(\"입력값은 {}입니다\".format(a))"
   ]
  },
  {
   "cell_type": "code",
   "execution_count": null,
   "metadata": {},
   "outputs": [],
   "source": []
  },
  {
   "cell_type": "code",
   "execution_count": 4,
   "metadata": {},
   "outputs": [],
   "source": [
    "f = open(\"test1.txt\", 'w', encoding='utf8')\n",
    "f.close()"
   ]
  },
  {
   "cell_type": "code",
   "execution_count": 2,
   "metadata": {},
   "outputs": [],
   "source": [
    "with open('test2.txt',mode='w', encoding='utf-8') as f:\n",
    "    f.write('1')"
   ]
  },
  {
   "cell_type": "code",
   "execution_count": 12,
   "metadata": {},
   "outputs": [],
   "source": [
    "with open('test3.txt',mode='w', encoding='utf-8') as f:\n",
    "    f.write('안녕하세요')\n",
    "    f.write('만나서')\n",
    "    f.write('반갑습니다')"
   ]
  },
  {
   "cell_type": "code",
   "execution_count": null,
   "metadata": {},
   "outputs": [],
   "source": [
    "# Q1. 단어별 띄어쓰기를 추가하세요!"
   ]
  },
  {
   "cell_type": "code",
   "execution_count": 13,
   "metadata": {},
   "outputs": [],
   "source": [
    "# Q2. 단어별 줄바꿈을 추가하세요!"
   ]
  },
  {
   "cell_type": "code",
   "execution_count": 15,
   "metadata": {},
   "outputs": [],
   "source": [
    "animals = ['사자','호랑이','고양이','강아지','말']\n",
    "\n",
    "with open('test4.txt',mode='w', encoding='utf-8') as f:\n",
    "    for animal in animals:\n",
    "        f.write(animal+\"\\n\")"
   ]
  },
  {
   "cell_type": "code",
   "execution_count": 23,
   "metadata": {},
   "outputs": [
    {
     "name": "stdout",
     "output_type": "stream",
     "text": [
      "사자\n",
      "\n",
      "호랑이\n",
      "\n",
      "고양이\n",
      "\n",
      "강아지\n",
      "\n",
      "말\n",
      "\n",
      "끝!\n"
     ]
    }
   ],
   "source": [
    "with open('test4.txt',mode='r', encoding='utf-8') as f:\n",
    "\n",
    "    while True:\n",
    "        line = f.readline()\n",
    "\n",
    "        if not line:\n",
    "            print(\"끝!\")\n",
    "            break\n",
    "        print(line)\n",
    "        #print(line.rstrip())"
   ]
  },
  {
   "cell_type": "code",
   "execution_count": 24,
   "metadata": {},
   "outputs": [
    {
     "name": "stdout",
     "output_type": "stream",
     "text": [
      "['사자\\n', '호랑이\\n', '고양이\\n', '강아지\\n', '말\\n']\n"
     ]
    }
   ],
   "source": [
    "lines =[]\n",
    "with open('test4.txt',mode='r', encoding='utf-8') as f:\n",
    "    lines = f.readlines()\n",
    "print(lines)"
   ]
  },
  {
   "cell_type": "code",
   "execution_count": 25,
   "metadata": {},
   "outputs": [],
   "source": [
    "#Q.뱀이라는 동물을 추가하여, test4_1.txt라는 파일을 만드세요!"
   ]
  },
  {
   "cell_type": "code",
   "execution_count": null,
   "metadata": {},
   "outputs": [],
   "source": []
  }
 ],
 "metadata": {
  "kernelspec": {
   "display_name": "Python 3",
   "language": "python",
   "name": "python3"
  },
  "language_info": {
   "codemirror_mode": {
    "name": "ipython",
    "version": 3
   },
   "file_extension": ".py",
   "mimetype": "text/x-python",
   "name": "python",
   "nbconvert_exporter": "python",
   "pygments_lexer": "ipython3",
   "version": "3.7.6"
  }
 },
 "nbformat": 4,
 "nbformat_minor": 4
}
