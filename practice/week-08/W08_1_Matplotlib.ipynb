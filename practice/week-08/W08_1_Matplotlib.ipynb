{
 "cells": [
  {
   "cell_type": "markdown",
   "metadata": {},
   "source": [
    "# BIG DATA ANALYTICS: Matplotlib Basic\n",
    "---"
   ]
  },
  {
   "cell_type": "code",
   "execution_count": null,
   "metadata": {},
   "outputs": [],
   "source": [
    "import sys\n",
    "!{sys.executable} -m pip install matplotlib"
   ]
  },
  {
   "cell_type": "code",
   "execution_count": null,
   "metadata": {},
   "outputs": [],
   "source": [
    "import matplotlib.pyplot as plt"
   ]
  },
  {
   "cell_type": "code",
   "execution_count": null,
   "metadata": {},
   "outputs": [],
   "source": [
    "#Jupyter Notebook에 바로 표현하겠다는 명령어\n",
    "%matplotlib inline"
   ]
  },
  {
   "cell_type": "code",
   "execution_count": null,
   "metadata": {},
   "outputs": [],
   "source": [
    "import numpy as np"
   ]
  },
  {
   "cell_type": "code",
   "execution_count": null,
   "metadata": {},
   "outputs": [],
   "source": []
  },
  {
   "cell_type": "markdown",
   "metadata": {},
   "source": [
    "### 샘플 데이터 준비\n",
    "$y = x^2$\n"
   ]
  },
  {
   "cell_type": "code",
   "execution_count": null,
   "metadata": {},
   "outputs": [],
   "source": [
    "#0부터 5사이를 11등분\n",
    "x = np.linspace(0,5,11)\n",
    "# y=x^2\n",
    "y = x**2"
   ]
  },
  {
   "cell_type": "code",
   "execution_count": null,
   "metadata": {},
   "outputs": [],
   "source": [
    "x"
   ]
  },
  {
   "cell_type": "code",
   "execution_count": null,
   "metadata": {},
   "outputs": [],
   "source": [
    "y"
   ]
  },
  {
   "cell_type": "markdown",
   "metadata": {},
   "source": [
    "### Matplotlib을 이용해 차트 그리기"
   ]
  },
  {
   "cell_type": "markdown",
   "metadata": {},
   "source": [
    "#### 1. 함수형 방식 \n",
    "사용하기 쉬우나, 추가적인 차트 조작이 불편함"
   ]
  },
  {
   "cell_type": "code",
   "execution_count": null,
   "metadata": {},
   "outputs": [],
   "source": [
    "#x,y데이터를 차트로 표현\n",
    "plt.plot(x,y)\n",
    "# x축 label 추가\n",
    "# plt.xlabel(\"X label\")\n",
    "# y축 label 추가\n",
    "# plt.ylabel(\"Y label\")\n",
    "# 차트제목 추가\n",
    "# plt.title(\"title\")\n",
    "# 선 색 바꾸기\n",
    "# plt.plot(x,y,'r')\n",
    "# plt.show()"
   ]
  },
  {
   "cell_type": "code",
   "execution_count": null,
   "metadata": {},
   "outputs": [],
   "source": [
    "# 여러 차트를 동시에 그리기\n",
    "#(행,열,내 위치)\n",
    "plt.subplot(1,2,1)\n",
    "plt.plot(x,y,'r')\n",
    "#(행,열,내 위치)\n",
    "plt.subplot(1,2,2)\n",
    "plt.plot(y,x,'b')"
   ]
  },
  {
   "cell_type": "markdown",
   "metadata": {},
   "source": [
    "#### 2. 객체 방식 \n",
    "일반적으로 사용되는 방식"
   ]
  },
  {
   "cell_type": "code",
   "execution_count": null,
   "metadata": {},
   "outputs": [],
   "source": [
    "#한글 폰트를 사용할 시! 외우지 마시고 그때 그때 복사해서 사용!\n",
    "import platform\n",
    "from matplotlib import font_manager, rc\n",
    "plt.rcParams['axes.unicode_minus'] = False\n",
    "if platform.system() == 'Darwin':\n",
    "    rc('font', family = 'AppleGothic')\n",
    "elif platform.system() == 'Windows':\n",
    "    path ='C:/Windows/Fonts/malgun.ttf'\n",
    "    font_name = font_manager.FontProperties(fname=path).get_name()\n",
    "    rc('font', family=font_name)\n",
    "else:\n",
    "    print(\"Can't find your system.\")\n",
    "\n"
   ]
  },
  {
   "cell_type": "code",
   "execution_count": null,
   "metadata": {},
   "outputs": [],
   "source": [
    "#가상의 Canvas 객체 확보\n",
    "fig = plt.figure()\n",
    "#좌표축 추가\n",
    "axes = fig.add_axes([0.0,0.0,1.0,1.0])\n",
    "#차트 그리기\n",
    "axes.plot(x,y)\n",
    "#기타 정보들 추가\n",
    "axes.set_xlabel(\"X 라벨\")\n",
    "axes.set_ylabel(\"Y label\")\n",
    "axes.set_title(\"Title\")\n",
    "plt.show()"
   ]
  },
  {
   "cell_type": "markdown",
   "metadata": {},
   "source": [
    "#### 3. 복수개의 차트 표현"
   ]
  },
  {
   "cell_type": "code",
   "execution_count": null,
   "metadata": {},
   "outputs": [],
   "source": [
    "#가상의 canvas확보\n",
    "fig = plt.figure()\n",
    "#가상의 좌표계1 추가 (left,bottom,width,height)\n",
    "axes1 = fig.add_axes([0.0,0.0,1.0,1.0])\n",
    "#가상의 좌표계2 추가\n",
    "axes2 = fig.add_axes([0.1,0.5,0.4,0.4])\n",
    "\n",
    "# axes1.plot(x,y)\n",
    "# axes2.plot(y,x)"
   ]
  },
  {
   "cell_type": "code",
   "execution_count": null,
   "metadata": {},
   "outputs": [],
   "source": [
    "#여러 좌표계 (1행 2열)\n",
    "fig, axes = plt.subplots(nrows=1,ncols=2)\n",
    "\n",
    "#각각의 좌표계에 접근\n",
    "for current_ax in axes:\n",
    "    current_ax.plot(x,y)\n",
    "# axes[0].plot(x,y)\n",
    "# axes[0].set_title(\"Chart 1\")\n",
    "# axes[1].plot(x,y)\n",
    "# axes[1].set_title(\"Chart 2\")"
   ]
  },
  {
   "cell_type": "code",
   "execution_count": null,
   "metadata": {},
   "outputs": [],
   "source": [
    "axes"
   ]
  },
  {
   "cell_type": "code",
   "execution_count": null,
   "metadata": {},
   "outputs": [],
   "source": []
  },
  {
   "cell_type": "code",
   "execution_count": null,
   "metadata": {},
   "outputs": [],
   "source": [
    "#Figure 사이즈 조정\n",
    "fig = plt.figure(figsize=(2,3))\n",
    "\n",
    "ax = fig.add_axes([0,0,1,1])\n",
    "ax.plot(x,y)"
   ]
  },
  {
   "cell_type": "code",
   "execution_count": null,
   "metadata": {},
   "outputs": [],
   "source": [
    "#여러 차트에서의 figure size조정\n",
    "fig, axes = plt.subplots(nrows=2,ncols=1,figsize=(10,4))\n",
    "\n",
    "axes[0].plot(x,y)\n",
    "axes[0].set_title(\"Chart 1\")\n",
    "axes[1].plot(x,y)\n",
    "axes[1].set_title(\"Chart 2\")\n",
    "# fig.tight_layout()"
   ]
  },
  {
   "cell_type": "code",
   "execution_count": null,
   "metadata": {},
   "outputs": [],
   "source": [
    "#차트 이미지로 저장 (dpi=dots per inch)\n",
    "fig.savefig(\"myfig.jpg\",dpi=100)"
   ]
  },
  {
   "cell_type": "code",
   "execution_count": null,
   "metadata": {},
   "outputs": [],
   "source": []
  },
  {
   "cell_type": "code",
   "execution_count": null,
   "metadata": {},
   "outputs": [],
   "source": [
    "#범례 추가\n",
    "fig = plt.figure()\n",
    "axes = fig.add_axes([0.0,0.0,1.0,1.0])\n",
    "axes.plot(x,y, label=\"y=x^2\")\n",
    "axes.plot(y,x, label=\"y=x^0.5\")\n",
    "axes.set_xlabel(\"X label\")\n",
    "axes.set_ylabel(\"Y label\")\n",
    "axes.set_title(\"Title\")\n",
    "axes.legend(loc=2)"
   ]
  },
  {
   "cell_type": "markdown",
   "metadata": {},
   "source": [
    "## 더 많은 차트들을 보시려면 [여기서](https://matplotlib.org/gallery/index.html)"
   ]
  }
 ],
 "metadata": {
  "kernelspec": {
   "display_name": "Python 3",
   "language": "python",
   "name": "python3"
  },
  "language_info": {
   "codemirror_mode": {
    "name": "ipython",
    "version": 3
   },
   "file_extension": ".py",
   "mimetype": "text/x-python",
   "name": "python",
   "nbconvert_exporter": "python",
   "pygments_lexer": "ipython3",
   "version": "3.7.6"
  }
 },
 "nbformat": 4,
 "nbformat_minor": 2
}
