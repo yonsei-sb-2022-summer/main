{
 "cells": [
  {
   "cell_type": "markdown",
   "metadata": {},
   "source": [
    "# BIG DATA ANALYSIS : Web Scraping\n",
    "---"
   ]
  },
  {
   "cell_type": "markdown",
   "metadata": {},
   "source": [
    "<img src=\"images/http.png\" />"
   ]
  },
  {
   "cell_type": "markdown",
   "metadata": {},
   "source": [
    "## 1. 해당 웹사이트 주소에 요청\n",
    "근본적으로는 파일 다운로드와 동일"
   ]
  },
  {
   "cell_type": "code",
   "execution_count": null,
   "metadata": {},
   "outputs": [],
   "source": [
    "import requests"
   ]
  },
  {
   "cell_type": "code",
   "execution_count": null,
   "metadata": {},
   "outputs": [],
   "source": [
    "url = \"https://en.wikipedia.org/wiki/Big_data\"\n",
    "response = requests.get(url)"
   ]
  },
  {
   "cell_type": "code",
   "execution_count": null,
   "metadata": {},
   "outputs": [],
   "source": [
    "response"
   ]
  },
  {
   "cell_type": "code",
   "execution_count": null,
   "metadata": {},
   "outputs": [],
   "source": [
    "# 반환된 HTML, CSS, javascript 텍스트\n",
    "print(response.text)"
   ]
  },
  {
   "cell_type": "code",
   "execution_count": null,
   "metadata": {},
   "outputs": [],
   "source": [
    "html_data = response.text"
   ]
  },
  {
   "cell_type": "markdown",
   "metadata": {},
   "source": [
    "## 2. HTML 데이터를 Parasing 하기 위한 라이브러리 다운로드"
   ]
  },
  {
   "cell_type": "code",
   "execution_count": null,
   "metadata": {},
   "outputs": [],
   "source": [
    "import sys\n",
    "!{sys.executable} -m pip install beautifulsoup4"
   ]
  },
  {
   "cell_type": "code",
   "execution_count": null,
   "metadata": {},
   "outputs": [],
   "source": [
    "from bs4 import BeautifulSoup\n",
    "\n",
    "\n",
    "soup = BeautifulSoup(html_data, \"html.parser\")\n",
    "#전체 HTML 코드에서 h1이라는 태그를 찾는 방법\n",
    "b = soup.find('h1')\n",
    "# HTML태그 전체\n",
    "print(b)\n",
    "# 그 안에 텍스트\n",
    "print(b.text)"
   ]
  },
  {
   "cell_type": "markdown",
   "metadata": {},
   "source": [
    "## 3. 동적 렌더링으로 제공되는 데이터 확보 방법\n",
    "- 대부분의 최신 웹사이트는 클라이언트 사이드 렌더링으로, 웹 사이트가 렌더링 된 후에, 추가적으로 데이터 요청\n",
    "- 위키피디아의 경우 페이지가 로드된후 추가적인 업데이트가 없음 (정적 렌더링 / 서버사이드 렌더링)"
   ]
  },
  {
   "cell_type": "markdown",
   "metadata": {},
   "source": [
    "https://finance.daum.net/quotes/A005930#influential_investors/home"
   ]
  },
  {
   "cell_type": "code",
   "execution_count": null,
   "metadata": {},
   "outputs": [],
   "source": [
    "url = \"https://finance.daum.net/quotes/A005930#influential_investors/home\"\n",
    "response = requests.get(url)\n",
    "html_data = response.text\n",
    "print(html_data)"
   ]
  },
  {
   "cell_type": "code",
   "execution_count": null,
   "metadata": {},
   "outputs": [],
   "source": [
    "soup = BeautifulSoup(html_data, \"html.parser\")\n",
    "a = soup.find('div',attrs={\"id\":\"wrap\"})\n",
    "print(a)\n",
    "print(a.text)"
   ]
  },
  {
   "cell_type": "code",
   "execution_count": null,
   "metadata": {},
   "outputs": [],
   "source": [
    "#HTML 코드 파싱\n",
    "soup = BeautifulSoup(html_data, \"html.parser\")\n",
    "#우리가 웹브라우저에서 보는 html 코드를 찾을 수가 없음\n",
    "a = soup.find('a',attrs={\"id\":\"favorite\"})\n",
    "print(a)\n",
    "print(a.text)"
   ]
  },
  {
   "cell_type": "markdown",
   "metadata": {},
   "source": [
    "### 개발자 도구를 활용한 동적 요청 주소 파악\n",
    "- 스크래핑 하고자하는 웹 브라우저에서 우클릭(right click) 후 검사(inspector) 클릭\n",
    "- network 탭 클릭\n",
    "- 데이터를 로드할 액션을 웹페이지 상에서 취함(예: 링크 클릭)"
   ]
  },
  {
   "cell_type": "code",
   "execution_count": null,
   "metadata": {},
   "outputs": [],
   "source": [
    "# 개발자 도구를 통해 알아낸 주소!\n",
    "url = \"https://finance.daum.net/api/investor/days?page=2&perPage=30&symbolCode=A005930&pagination=true\"\n",
    "\n",
    "response = requests.get(url)\n",
    "html_data = response.text\n",
    "#하지만 접근 거부 ㅜ\n",
    "print(html_data)"
   ]
  },
  {
   "cell_type": "markdown",
   "metadata": {},
   "source": [
    "### header를 추가해서, 웹 브라우저인척 하자!!"
   ]
  },
  {
   "cell_type": "code",
   "execution_count": null,
   "metadata": {},
   "outputs": [],
   "source": [
    "url = \"https://finance.daum.net/api/investor/days?page=2&perPage=30&symbolCode=A005930&pagination=true\"\n",
    "headers = {\n",
    "    \"user-agent\": \"Mozilla/5.0 (Macintosh; Intel Mac OS X 10_15_6) AppleWebKit/537.36 (KHTML, like Gecko) Chrome/85.0.4183.121 Safari/537.36\",\n",
    "    \"referer\": \"https://finance.daum.net/quotes/A005930\"\n",
    "\n",
    "}\n",
    "response = requests.get(url,headers=headers)\n",
    "data = response.text\n",
    "print(type(data))\n",
    "print(data)"
   ]
  },
  {
   "cell_type": "markdown",
   "metadata": {},
   "source": [
    "### string으로 되어있지만, 내부 내용을 보면 json 포맷"
   ]
  },
  {
   "cell_type": "code",
   "execution_count": null,
   "metadata": {
    "scrolled": true
   },
   "outputs": [],
   "source": [
    "# json 관련 라이브러리 임포트\n",
    "import json\n",
    "\n",
    "#json으로 파싱후 dict로 저장\n",
    "prices = json.loads(data)\n",
    "print(type(prices))\n",
    "print(prices)"
   ]
  },
  {
   "cell_type": "code",
   "execution_count": null,
   "metadata": {},
   "outputs": [],
   "source": [
    "# 이제 이런식으로 값에 접근가능\n",
    "prices['data'][0]"
   ]
  },
  {
   "cell_type": "code",
   "execution_count": null,
   "metadata": {},
   "outputs": [],
   "source": [
    "# 자주 요청을 하면 회사에서 막을 수도 있으니, 일단 저장을 해놓고 쓰자!\n",
    "with open(\"result.json\", \"w\") as outfile: \n",
    "    json.dump(data,outfile)"
   ]
  },
  {
   "cell_type": "code",
   "execution_count": null,
   "metadata": {},
   "outputs": [],
   "source": []
  }
 ],
 "metadata": {
  "kernelspec": {
   "display_name": "Python 3 (ipykernel)",
   "language": "python",
   "name": "python3"
  },
  "language_info": {
   "codemirror_mode": {
    "name": "ipython",
    "version": 3
   },
   "file_extension": ".py",
   "mimetype": "text/x-python",
   "name": "python",
   "nbconvert_exporter": "python",
   "pygments_lexer": "ipython3",
   "version": "3.9.7"
  }
 },
 "nbformat": 4,
 "nbformat_minor": 4
}
