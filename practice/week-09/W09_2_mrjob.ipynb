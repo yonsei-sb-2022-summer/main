{
 "cells": [
  {
   "cell_type": "markdown",
   "metadata": {},
   "source": [
    "# BIG DATA ANALYTICS PROGRAMMING : MRJob\n",
    "### MRJob 라이브러리를 활용한 Map-Reduce 단어수 세기\n",
    "---"
   ]
  },
  {
   "cell_type": "markdown",
   "metadata": {},
   "source": [
    "## 1. 라이브러리 설치"
   ]
  },
  {
   "cell_type": "code",
   "execution_count": null,
   "metadata": {},
   "outputs": [],
   "source": [
    "import sys"
   ]
  },
  {
   "cell_type": "code",
   "execution_count": null,
   "metadata": {
    "scrolled": true
   },
   "outputs": [],
   "source": [
    "#!pip install mrjob\n",
    "!{sys.executable} -m pip install mrjob"
   ]
  },
  {
   "cell_type": "markdown",
   "metadata": {},
   "source": [
    "## 2. Word Count 예제\n",
    "\"%%file wordcount.py\" 라는 magic 명령어를 활용해 주피터 노트북 내에서 파일 쓰기를 할 수 있습니다"
   ]
  },
  {
   "cell_type": "code",
   "execution_count": null,
   "metadata": {},
   "outputs": [],
   "source": [
    "%%file wordcount.py\n",
    "from mrjob.job import MRJob\n",
    "import sys\n",
    "\n",
    "class MRWordFrequencyCount(MRJob):\n",
    "    \n",
    "    def mapper(self, _, line):\n",
    "        # line = \"Hello world\"\n",
    "        yield \"chars\", len(line)\n",
    "        yield \"words\", len(line.split())\n",
    "        yield \"lines\", 1\n",
    "\n",
    "    def reducer(self, key, values):\n",
    "        # key = \"chars\"\n",
    "        # values = [10,10,10]\n",
    "        yield key, sum(values)\n",
    "\n",
    "\n",
    "if __name__ == '__main__':\n",
    "    MRWordFrequencyCount.run()"
   ]
  },
  {
   "cell_type": "markdown",
   "metadata": {},
   "source": [
    "### map-reduce 로직 이해하기"
   ]
  },
  {
   "cell_type": "markdown",
   "metadata": {},
   "source": [
    "만약에 다음과 같은 3줄짜리 글이 있을때\n",
    "```\n",
    "Hello, this is big data anlytics course.\n",
    "It is not as difficult as you think.\n",
    "Good Luck!\n",
    "```\n",
    "위의 텍스트를 기준으로 단어 수 세기를 map-reduce를 활용해 계산\n",
    "\n",
    "예를들어서 mapper가 3개가 생성되었다면,\n",
    "- mapper1 : Hello, this is big data anlytics course.\n",
    "    - \"chars\", 40\n",
    "    - \"words\", 7\n",
    "    - \"lines\", 1\n",
    "- mapper2 : It is not as difficult as you think.\n",
    "    - \"chars\", 36\n",
    "    - \"words\", 8\n",
    "    - \"lines\", 1\n",
    "- mapper3 : Good Luck!\n",
    "    - \"chars\", 10\n",
    "    - \"words\", 2\n",
    "    - \"lines\", 1\n",
    "    \n",
    "그리고 reducer가 1개가 생성되었다면,\n",
    "- \"chars\", [40,36,10] 을 key-value로 받고\n",
    "    - \"chars\", 86을 반환\n",
    "- \"words\", [7,8,2] 을 key-value로 받고\n",
    "    - \"words\", 17을 반환\n",
    "- \"lines\", [1,1,1] 을 key-value로 받고\n",
    "    - \"lines\", 3을 반환"
   ]
  },
  {
   "cell_type": "markdown",
   "metadata": {},
   "source": [
    "### 작은 텍스트 파일로 실행"
   ]
  },
  {
   "cell_type": "code",
   "execution_count": null,
   "metadata": {
    "scrolled": true
   },
   "outputs": [],
   "source": [
    "!{sys.executable} wordcount.py data_small.txt"
   ]
  },
  {
   "cell_type": "markdown",
   "metadata": {},
   "source": [
    "### 큰 텍스트 파일로 실행"
   ]
  },
  {
   "cell_type": "code",
   "execution_count": null,
   "metadata": {},
   "outputs": [],
   "source": [
    "!{sys.executable} wordcount.py data.txt"
   ]
  },
  {
   "cell_type": "markdown",
   "metadata": {},
   "source": [
    "## 3. 고빈출 단어 출력 예제"
   ]
  },
  {
   "cell_type": "markdown",
   "metadata": {},
   "source": [
    "### 정규식을 활용한, 단어 추출"
   ]
  },
  {
   "cell_type": "code",
   "execution_count": null,
   "metadata": {
    "scrolled": true
   },
   "outputs": [],
   "source": [
    "import re\n",
    "WORD_RE = re.compile(r\"[\\w']+\")\n",
    "for word in WORD_RE.findall(\"Hello, nice !! [1][2][3]\"):\n",
    "    print(word)"
   ]
  },
  {
   "cell_type": "markdown",
   "metadata": {},
   "source": [
    "### map-reduce 코드 생성"
   ]
  },
  {
   "cell_type": "code",
   "execution_count": null,
   "metadata": {},
   "outputs": [],
   "source": [
    "%%file wordcount2.py\n",
    "from mrjob.job import MRJob\n",
    "from mrjob.step import MRStep\n",
    "import re\n",
    "\n",
    "WORD_RE = re.compile(r\"[\\w']+\")\n",
    "\n",
    "\n",
    "class MRMostUsedWord(MRJob):\n",
    "\n",
    "    def steps(self):\n",
    "        return [\n",
    "            MRStep(mapper=self.mapper_get_words,\n",
    "                   reducer=self.reducer_count_words),\n",
    "            MRStep(reducer=self.reducer_find_max_word)\n",
    "        ]\n",
    "\n",
    "    def mapper_get_words(self, _, line):\n",
    "        for word in WORD_RE.findall(line):\n",
    "            yield (word.lower(), 1)\n",
    "\n",
    "    def reducer_count_words(self, word, counts):\n",
    "        yield None, (sum(counts), word)\n",
    "\n",
    "    def reducer_find_max_word(self, _, word_count_pairs):\n",
    "        yield max(word_count_pairs)\n",
    "\n",
    "\n",
    "if __name__ == '__main__':\n",
    "    MRMostUsedWord.run()"
   ]
  },
  {
   "cell_type": "markdown",
   "metadata": {},
   "source": [
    "### map-reduce 로직 이해하기"
   ]
  },
  {
   "cell_type": "code",
   "execution_count": null,
   "metadata": {},
   "outputs": [],
   "source": [
    "test = [(10,\"dog\"),(3, \"cat\"), (33, \"bird\")]\n",
    "max(test)"
   ]
  },
  {
   "cell_type": "markdown",
   "metadata": {},
   "source": [
    "만약에 다음과 같은 3줄짜리 글이 있을때\n",
    "```\n",
    "Hello, this is big data anlytics course.\n",
    "It is not as difficult as you think.\n",
    "Good Luck!\n",
    "```\n",
    "위의 텍스트를 기준으로 단어 수 세기를 map-reduce를 활용해 계산\n",
    "\n",
    "예를들어서 mapper가 3개가 생성되었다면,\n",
    "- mapper1 : Hello, this is big data anlytics course.\n",
    "    - \"hello\", 1\n",
    "    - \"this\", 1\n",
    "    - \"is\", 1\n",
    "    - ....\n",
    "- mapper2 : It is not as difficult as you think.\n",
    "    - \"it\", 1\n",
    "    - \"is\", 1\n",
    "    - \"not\", 1\n",
    "    - ....\n",
    "- mapper3 : Good Luck!\n",
    "    - \"good\", 1\n",
    "    - \"luck\", 1\n",
    "    \n",
    "그리고 첫번째 reducer 부분에서\n",
    "- \"hello\", [1] 을 key-value로 받고\n",
    "    - None, (1, hello)를 반환\n",
    "- \"is\", [1,1] 을 key-value로 받고\n",
    "    - None, (2, is)를 반환\n",
    "- ...\n",
    "\n",
    "그리고 마지막 reducer에서\n",
    "- 첫번째 reducer의 key가 모두 None이기 때문에, 한쪽으로 다 몰리고\n",
    "- word_count_pairs = [(1,hello),(2, is)...]\n",
    "- 마지막으로 word_count_pairs 중 max 값을 return"
   ]
  },
  {
   "cell_type": "markdown",
   "metadata": {},
   "source": [
    "### 실행"
   ]
  },
  {
   "cell_type": "code",
   "execution_count": null,
   "metadata": {},
   "outputs": [],
   "source": [
    "!{sys.executable} wordcount2.py --runner=inline data_small.txt"
   ]
  },
  {
   "cell_type": "code",
   "execution_count": null,
   "metadata": {
    "scrolled": false
   },
   "outputs": [],
   "source": [
    "!{sys.executable} wordcount2.py --runner=inline data.txt"
   ]
  },
  {
   "cell_type": "markdown",
   "metadata": {},
   "source": [
    "## 4. Top 10 단어 출력 예제"
   ]
  },
  {
   "cell_type": "code",
   "execution_count": null,
   "metadata": {},
   "outputs": [],
   "source": [
    "%%file wordcount3.py\n",
    "from mrjob.job import MRJob\n",
    "from mrjob.step import MRStep\n",
    "import re\n",
    "import sys\n",
    "WORD_RE = re.compile(r\"[\\w']+\")\n",
    "\n",
    "\n",
    "class MRTopNWord(MRJob):\n",
    "\n",
    "    def steps(self):\n",
    "        return [\n",
    "            MRStep(mapper=self.mapper_get_words,\n",
    "                   reducer=self.reducer_count_words),\n",
    "            MRStep(reducer=self.reducer_find_max_word)\n",
    "        ]\n",
    "\n",
    "    def mapper_get_words(self, _, line):\n",
    "        # yield each word in the line\n",
    "        for word in WORD_RE.findall(line):\n",
    "            yield (word.lower(), 1)\n",
    "\n",
    "\n",
    "    def reducer_count_words(self, word, counts):\n",
    "        yield None, (sum(counts), word)\n",
    "\n",
    "    def reducer_find_max_word(self, _, values):\n",
    "        pass\n",
    "\n",
    "if __name__ == '__main__':\n",
    "    MRTopNWord.run()"
   ]
  },
  {
   "cell_type": "code",
   "execution_count": null,
   "metadata": {},
   "outputs": [],
   "source": [
    "!{sys.executable} wordcount3.py --runner=inline data.txt"
   ]
  },
  {
   "cell_type": "code",
   "execution_count": null,
   "metadata": {},
   "outputs": [],
   "source": []
  }
 ],
 "metadata": {
  "kernelspec": {
   "display_name": "Python 3",
   "language": "python",
   "name": "python3"
  },
  "language_info": {
   "codemirror_mode": {
    "name": "ipython",
    "version": 3
   },
   "file_extension": ".py",
   "mimetype": "text/x-python",
   "name": "python",
   "nbconvert_exporter": "python",
   "pygments_lexer": "ipython3",
   "version": "3.7.6"
  }
 },
 "nbformat": 4,
 "nbformat_minor": 4
}
