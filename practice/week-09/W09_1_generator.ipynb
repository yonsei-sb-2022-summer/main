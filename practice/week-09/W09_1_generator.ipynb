{
 "cells": [
  {
   "cell_type": "markdown",
   "metadata": {},
   "source": [
    "# BIG DATA ANALYTICS PROGRAMMING : Generator\n",
    "### Python에서 Generater의 동작 방식에 대해서 알아봅니다!\n",
    "---\n",
    "- generator : iterator를 생성해주는 함수, 함수안에 yield 키워드를 사용함\n",
    "- genrator 특징\n",
    "    - iterable한 순서가 지정됨(모든 generator는 iterator)\n",
    "    - 느슨하게 평가된다.(순서의 다음 값은 필요에 따라 계산됨)\n",
    "    - 함수의 내부 로컬 변수를 통해 내부상태가 유지된다.\n",
    "    - 무한한 순서가 있는 객체를 모델링할 수 있다.(명확한 끝이 없는 데이터 스트림)\n",
    "    - 자연스러운 스트림 처리를 위 파이프라인으로 구성할수 있다\n",
    "- References:\n",
    "    - https://wikidocs.net/16069"
   ]
  },
  {
   "cell_type": "code",
   "execution_count": 9,
   "metadata": {},
   "outputs": [
    {
     "data": {
      "text/plain": [
       "1"
      ]
     },
     "execution_count": 9,
     "metadata": {},
     "output_type": "execute_result"
    }
   ],
   "source": [
    "def test_gen():\n",
    "    return 1\n",
    "    return 2\n",
    "    return 3\n",
    "test_gen()"
   ]
  },
  {
   "cell_type": "code",
   "execution_count": 10,
   "metadata": {},
   "outputs": [
    {
     "data": {
      "text/plain": [
       "<generator object test_gen at 0x7fed07d59120>"
      ]
     },
     "execution_count": 10,
     "metadata": {},
     "output_type": "execute_result"
    }
   ],
   "source": [
    "def test_gen():\n",
    "    yield 1\n",
    "    yield 2\n",
    "    yield 3\n",
    "test_gen()"
   ]
  },
  {
   "cell_type": "code",
   "execution_count": 17,
   "metadata": {},
   "outputs": [
    {
     "data": {
      "text/plain": [
       "1"
      ]
     },
     "execution_count": 17,
     "metadata": {},
     "output_type": "execute_result"
    }
   ],
   "source": [
    "gen = test_gen()\n",
    "next(gen)"
   ]
  },
  {
   "cell_type": "code",
   "execution_count": 18,
   "metadata": {},
   "outputs": [
    {
     "data": {
      "text/plain": [
       "2"
      ]
     },
     "execution_count": 18,
     "metadata": {},
     "output_type": "execute_result"
    }
   ],
   "source": [
    "next(gen)"
   ]
  },
  {
   "cell_type": "code",
   "execution_count": 19,
   "metadata": {},
   "outputs": [
    {
     "data": {
      "text/plain": [
       "3"
      ]
     },
     "execution_count": 19,
     "metadata": {},
     "output_type": "execute_result"
    }
   ],
   "source": [
    "next(gen)"
   ]
  },
  {
   "cell_type": "code",
   "execution_count": 20,
   "metadata": {},
   "outputs": [
    {
     "ename": "StopIteration",
     "evalue": "",
     "output_type": "error",
     "traceback": [
      "\u001b[0;31m---------------------------------------------------------------------------\u001b[0m",
      "\u001b[0;31mStopIteration\u001b[0m                             Traceback (most recent call last)",
      "\u001b[0;32m<ipython-input-20-6e72e47198db>\u001b[0m in \u001b[0;36m<module>\u001b[0;34m\u001b[0m\n\u001b[0;32m----> 1\u001b[0;31m \u001b[0mnext\u001b[0m\u001b[0;34m(\u001b[0m\u001b[0mgen\u001b[0m\u001b[0;34m)\u001b[0m\u001b[0;34m\u001b[0m\u001b[0;34m\u001b[0m\u001b[0m\n\u001b[0m",
      "\u001b[0;31mStopIteration\u001b[0m: "
     ]
    }
   ],
   "source": [
    "next(gen)"
   ]
  },
  {
   "cell_type": "code",
   "execution_count": 1,
   "metadata": {},
   "outputs": [
    {
     "name": "stdout",
     "output_type": "stream",
     "text": [
      "0\n",
      "0\n"
     ]
    }
   ],
   "source": [
    "def numbers():\n",
    "    for i in range(10):\n",
    "        return i\n",
    "\n",
    "print(numbers())\n",
    "print(numbers())"
   ]
  },
  {
   "cell_type": "code",
   "execution_count": 2,
   "metadata": {},
   "outputs": [
    {
     "name": "stdout",
     "output_type": "stream",
     "text": [
      "hello 0\n",
      "Yes\n",
      "0\n",
      "hello 1\n",
      "Yes\n",
      "1\n",
      "hello 2\n",
      "Yes\n",
      "2\n",
      "hello 3\n",
      "Yes\n",
      "3\n",
      "hello 4\n",
      "Yes\n",
      "4\n",
      "hello 5\n",
      "Yes\n",
      "5\n",
      "hello 6\n",
      "Yes\n",
      "6\n",
      "hello 7\n",
      "Yes\n",
      "7\n",
      "hello 8\n",
      "Yes\n",
      "8\n",
      "hello 9\n",
      "Yes\n",
      "9\n"
     ]
    }
   ],
   "source": [
    "def numbers():\n",
    "    for i in range(10):\n",
    "        print(\"hello\",i)\n",
    "        yield i\n",
    "\n",
    "for number in numbers():\n",
    "    print(\"Yes\")\n",
    "    print(number)"
   ]
  },
  {
   "cell_type": "code",
   "execution_count": 3,
   "metadata": {},
   "outputs": [
    {
     "name": "stdout",
     "output_type": "stream",
     "text": [
      "hello 0\n",
      "hello 1\n",
      "hello 2\n",
      "hello 3\n",
      "hello 4\n",
      "hello 5\n",
      "hello 6\n",
      "hello 7\n",
      "hello 8\n",
      "hello 9\n"
     ]
    },
    {
     "data": {
      "text/plain": [
       "[0, 1, 2, 3, 4, 5, 6, 7, 8, 9]"
      ]
     },
     "execution_count": 3,
     "metadata": {},
     "output_type": "execute_result"
    }
   ],
   "source": [
    "list(numbers())"
   ]
  },
  {
   "cell_type": "code",
   "execution_count": 14,
   "metadata": {},
   "outputs": [
    {
     "name": "stdout",
     "output_type": "stream",
     "text": [
      "hello 0\n"
     ]
    },
    {
     "data": {
      "text/plain": [
       "0"
      ]
     },
     "execution_count": 14,
     "metadata": {},
     "output_type": "execute_result"
    }
   ],
   "source": [
    "number_gen = numbers()\n",
    "next(number_gen)"
   ]
  },
  {
   "cell_type": "code",
   "execution_count": 15,
   "metadata": {},
   "outputs": [
    {
     "name": "stdout",
     "output_type": "stream",
     "text": [
      "hello 1\n"
     ]
    },
    {
     "data": {
      "text/plain": [
       "1"
      ]
     },
     "execution_count": 15,
     "metadata": {},
     "output_type": "execute_result"
    }
   ],
   "source": [
    "next(number_gen)"
   ]
  },
  {
   "cell_type": "code",
   "execution_count": 16,
   "metadata": {
    "scrolled": true
   },
   "outputs": [
    {
     "name": "stdout",
     "output_type": "stream",
     "text": [
      "hello 2\n"
     ]
    },
    {
     "data": {
      "text/plain": [
       "2"
      ]
     },
     "execution_count": 16,
     "metadata": {},
     "output_type": "execute_result"
    }
   ],
   "source": [
    "next(number_gen)"
   ]
  },
  {
   "cell_type": "code",
   "execution_count": 13,
   "metadata": {},
   "outputs": [
    {
     "data": {
      "text/plain": [
       "[1, 3, 5, 7, 9]"
      ]
     },
     "execution_count": 13,
     "metadata": {},
     "output_type": "execute_result"
    }
   ],
   "source": [
    "[i for i in range(10) if i%2]"
   ]
  },
  {
   "cell_type": "code",
   "execution_count": 14,
   "metadata": {},
   "outputs": [
    {
     "data": {
      "text/plain": [
       "<generator object <genexpr> at 0x7fb2e02ab550>"
      ]
     },
     "execution_count": 14,
     "metadata": {},
     "output_type": "execute_result"
    }
   ],
   "source": [
    "(i for i in range(10) if i%2)"
   ]
  },
  {
   "cell_type": "code",
   "execution_count": 6,
   "metadata": {},
   "outputs": [
    {
     "name": "stdout",
     "output_type": "stream",
     "text": [
      "536\n",
      "4280\n",
      "128\n",
      "128\n"
     ]
    }
   ],
   "source": [
    "import sys\n",
    "\n",
    "print(sys.getsizeof([i for i in range(100) if i % 2]))\n",
    "print(sys.getsizeof([i for i in range(1000) if i % 2]))\n",
    "print(sys.getsizeof((i for i in range(100) if i % 2)))\n",
    "print(sys.getsizeof((i for i in range(1000) if i % 2)))"
   ]
  },
  {
   "cell_type": "code",
   "execution_count": 25,
   "metadata": {},
   "outputs": [],
   "source": [
    "with open('data_small.txt', encoding='utf-8') as f:\n",
    "    data = f.readlines()"
   ]
  },
  {
   "cell_type": "code",
   "execution_count": 34,
   "metadata": {},
   "outputs": [
    {
     "name": "stdout",
     "output_type": "stream",
     "text": [
      "Hello, 1\n",
      "this 1\n",
      "is 1\n",
      "big 1\n",
      "data 1\n",
      "anlytics 1\n",
      "course. 1\n",
      "It 1\n",
      "is 1\n",
      "not 1\n",
      "as 1\n",
      "difficult 1\n",
      "as 1\n",
      "you 1\n",
      "think. 1\n",
      "Good 1\n",
      "Luck! 1\n"
     ]
    }
   ],
   "source": [
    "def parser(line):\n",
    "    line_list = []\n",
    "    for data in line.split():\n",
    "        line_list.append((data,1))\n",
    "    return line_list\n",
    "\n",
    "def writer(k,v):\n",
    "    with open('write_test.txt', 'a', encoding='utf-8') as f:\n",
    "        f.write(str(k)+' '+str(v)+'\\n')\n",
    "\n",
    "\n",
    "for line in data:    \n",
    "    for out_key, out_value in parser(line):\n",
    "        print(out_key, out_value)\n",
    "        writer(out_key, out_value)\n"
   ]
  },
  {
   "cell_type": "code",
   "execution_count": 33,
   "metadata": {},
   "outputs": [
    {
     "name": "stdout",
     "output_type": "stream",
     "text": [
      "Hello, 1\n",
      "this 1\n",
      "is 1\n",
      "big 1\n",
      "data 1\n",
      "anlytics 1\n",
      "course. 1\n",
      "It 1\n",
      "is 1\n",
      "not 1\n",
      "as 1\n",
      "difficult 1\n",
      "as 1\n",
      "you 1\n",
      "think. 1\n",
      "Good 1\n",
      "Luck! 1\n"
     ]
    }
   ],
   "source": [
    "def parser(line):\n",
    "    for data in line.split():\n",
    "        yield data, 1\n",
    "\n",
    "def writer(k,v):\n",
    "    with open('write_test.txt', 'a', encoding='utf-8') as f:\n",
    "        f.write(str(k)+' '+str(v)+'\\n')\n",
    "\n",
    "\n",
    "for line in data:    \n",
    "    for out_key, out_value in parser(line):\n",
    "        print(out_key, out_value)\n",
    "        writer(out_key, out_value)\n"
   ]
  },
  {
   "cell_type": "code",
   "execution_count": null,
   "metadata": {},
   "outputs": [],
   "source": []
  }
 ],
 "metadata": {
  "kernelspec": {
   "display_name": "Python 3",
   "language": "python",
   "name": "python3"
  },
  "language_info": {
   "codemirror_mode": {
    "name": "ipython",
    "version": 3
   },
   "file_extension": ".py",
   "mimetype": "text/x-python",
   "name": "python",
   "nbconvert_exporter": "python",
   "pygments_lexer": "ipython3",
   "version": "3.7.6"
  }
 },
 "nbformat": 4,
 "nbformat_minor": 4
}
