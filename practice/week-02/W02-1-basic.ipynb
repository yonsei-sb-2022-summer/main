{
 "cells": [
  {
   "cell_type": "markdown",
   "metadata": {},
   "source": [
    "# BIG DATA ANALYTICS PROGRAMMING\n",
    "## Python Basic\n",
    "---"
   ]
  },
  {
   "cell_type": "markdown",
   "metadata": {},
   "source": [
    "## 1. 주피터 노트북 기본 설명\n",
    "- Cell 소개 (타입)\n",
    "- 실행방법\n",
    "- 메모리 주의 사항\n",
    "- 셀 삽입/삭제\n",
    "- 수행(execution) 종료\n",
    "- 커널\n",
    "- 몇가지 단축키\n",
    "    - Ctrl + Enter\n",
    "    - Shift + Enter\n",
    "    - Tab\n",
    "        - indentation\n",
    "        - description\n",
    "        - . Tab"
   ]
  },
  {
   "cell_type": "markdown",
   "metadata": {},
   "source": [
    "## 2. 기본 출력 방식"
   ]
  },
  {
   "cell_type": "code",
   "execution_count": 1,
   "metadata": {
    "scrolled": true
   },
   "outputs": [],
   "source": [
    "print(\"Hello World1\")\n",
    "print(\"Hello World2\")"
   ]
  },
  {
   "cell_type": "code",
   "execution_count": 2,
   "metadata": {},
   "outputs": [
    {
     "name": "stdout",
     "output_type": "stream",
     "text": [
      "1 Hello True\n",
      "1/Hello/True\n"
     ]
    }
   ],
   "source": [
    "print(1, \"Hello\", True)\n",
    "print(1, \"Hello\", True, sep=\"/\")"
   ]
  },
  {
   "cell_type": "code",
   "execution_count": 3,
   "metadata": {},
   "outputs": [
    {
     "name": "stdout",
     "output_type": "stream",
     "text": [
      "Hello World1---Hello World2\n"
     ]
    }
   ],
   "source": [
    "print(\"Hello World1\", end=\"---\")\n",
    "print(\"Hello World2\")\n"
   ]
  },
  {
   "cell_type": "code",
   "execution_count": 4,
   "metadata": {},
   "outputs": [
    {
     "name": "stdout",
     "output_type": "stream",
     "text": [
      "이것은 출력입니다\n"
     ]
    }
   ],
   "source": [
    "# 이것은 한줄짜리 주석입니다\n",
    "# 전체를 선택하고 Ctrl+/를 눌러보세요!\n",
    "\n",
    "\"\"\"\n",
    "이것은 \n",
    "여러줄을 \n",
    "한번에 주석\n",
    "처리하는 방식입니다.\n",
    "\"\"\"\n",
    "print(\"이것은 출력입니다\")"
   ]
  },
  {
   "cell_type": "markdown",
   "metadata": {},
   "source": [
    "* [round](https://www.w3schools.com/python/ref_func_round.asp) 함수에 관한 설명"
   ]
  },
  {
   "cell_type": "code",
   "execution_count": 5,
   "metadata": {},
   "outputs": [
    {
     "name": "stdout",
     "output_type": "stream",
     "text": [
      "안녕하세요, 저의 이름은 중원이고 전공은 컴퓨터과학이고 몸무게는 70.02kg 입니다.\n",
      "안녕하세요, 저의 이름은 중원이고 전공은 컴퓨터과학이고 몸무게는 70.02kg 입니다.\n",
      "안녕하세요, 저의 이름은 중원이고 전공은 컴퓨터과학이고 몸무게는 70.02kg 입니다.\n",
      "안녕하세요, 저의 이름은 중원이고 전공은 컴퓨터과학이고 몸무게는 70.02kg 입니다.\n"
     ]
    }
   ],
   "source": [
    "#print 하는 방법\n",
    "name = \"중원\"\n",
    "major = \"컴퓨터과학\"\n",
    "weight = 70.0215\n",
    "\n",
    "print(\"안녕하세요, 저의 이름은 \"+name+\"이고\"+\" 전공은 \"+major+\"이고\"+\" 몸무게는 \"+str(round(weight,2))+\"kg 입니다.\")\n",
    "print(\"안녕하세요, 저의 이름은 %s이고 전공은 %s이고 몸무게는 %.2fkg 입니다.\" % (name, major, weight))\n",
    "print(\"안녕하세요, 저의 이름은 {}이고 전공은 {}이고 몸무게는 {:.2f}kg 입니다.\".format(name,major,weight))\n",
    "print(f\"안녕하세요, 저의 이름은 {name}이고 전공은 {major}이고 몸무게는 {weight:.2f}kg 입니다.\")"
   ]
  },
  {
   "cell_type": "markdown",
   "metadata": {},
   "source": [
    "## 3. 변수 할당\n",
    "- 단일 변수 할당\n",
    "- [Naming Convention](https://www.python.org/dev/peps/pep-0008/)\n",
    "    - Snake Case : 🐍\n",
    "    - Camel Case : 🐫\n",
    "- 복수 변수 할당\n",
    "- 변수 Swapping"
   ]
  },
  {
   "cell_type": "code",
   "execution_count": 6,
   "metadata": {},
   "outputs": [],
   "source": [
    "a = 10\n",
    "my_value = 100\n",
    "\n",
    "is_possible = True\n",
    "isPossible = True\n",
    "\n",
    "user_name = \"Jungwon\"\n",
    "userName = \"Jungwon\"\n",
    "\n",
    "users = []"
   ]
  },
  {
   "cell_type": "code",
   "execution_count": 7,
   "metadata": {
    "scrolled": true
   },
   "outputs": [
    {
     "name": "stdout",
     "output_type": "stream",
     "text": [
      "1 2 3\n"
     ]
    }
   ],
   "source": [
    "a, b, c = 1,2,3\n",
    "print(a,b,c)"
   ]
  },
  {
   "cell_type": "code",
   "execution_count": 8,
   "metadata": {},
   "outputs": [
    {
     "name": "stdout",
     "output_type": "stream",
     "text": [
      "10 10 10\n"
     ]
    }
   ],
   "source": [
    "a=b=c=10\n",
    "print(a,b,c)"
   ]
  },
  {
   "cell_type": "code",
   "execution_count": 9,
   "metadata": {
    "scrolled": true
   },
   "outputs": [
    {
     "name": "stdout",
     "output_type": "stream",
     "text": [
      "100 50\n",
      "50 100\n"
     ]
    }
   ],
   "source": [
    "a = 100\n",
    "b = 50\n",
    "print(a,b)\n",
    "a, b = b, a\n",
    "print(a,b)"
   ]
  },
  {
   "cell_type": "markdown",
   "metadata": {},
   "source": [
    "## 4. Numeric Operation\n",
    "    - 4칙연산 + alpha\n",
    "    - 비교연산\n",
    "    - 형변환(Type Casting)"
   ]
  },
  {
   "cell_type": "code",
   "execution_count": 10,
   "metadata": {},
   "outputs": [
    {
     "name": "stdout",
     "output_type": "stream",
     "text": [
      "12\n",
      "6\n",
      "27\n",
      "3.0\n"
     ]
    }
   ],
   "source": [
    "# 사칙연산을 계산해봅니다.\n",
    "x = 9\n",
    "print(x+3)\n",
    "print(x-3)\n",
    "print(x*3)\n",
    "print(x/3)"
   ]
  },
  {
   "cell_type": "code",
   "execution_count": 11,
   "metadata": {},
   "outputs": [
    {
     "name": "stdout",
     "output_type": "stream",
     "text": [
      "6561\n",
      "2\n",
      "1\n"
     ]
    }
   ],
   "source": [
    "# 거듭제곱, 몫, 나머지\n",
    "x = 9\n",
    "print(x**4)\n",
    "print(x//4) \n",
    "print(x%4)"
   ]
  },
  {
   "cell_type": "code",
   "execution_count": 12,
   "metadata": {},
   "outputs": [
    {
     "name": "stdout",
     "output_type": "stream",
     "text": [
      "33\n",
      "51\n"
     ]
    }
   ],
   "source": [
    "# 연산 우선순위\n",
    "\n",
    "a = 1+2+3*10\n",
    "print(a)\n",
    "a = 1+(2+3)*10\n",
    "print(a)"
   ]
  },
  {
   "cell_type": "code",
   "execution_count": 13,
   "metadata": {},
   "outputs": [
    {
     "name": "stdout",
     "output_type": "stream",
     "text": [
      "4\n",
      "5\n"
     ]
    }
   ],
   "source": [
    "# 기존변수에 추가적인 연산\n",
    "a = 3\n",
    "a = a +1\n",
    "print(a)\n",
    "a += 1\n",
    "print(a)"
   ]
  },
  {
   "cell_type": "code",
   "execution_count": 14,
   "metadata": {},
   "outputs": [
    {
     "name": "stdout",
     "output_type": "stream",
     "text": [
      "False\n",
      "True\n",
      "True\n",
      "False\n",
      "False\n",
      "True\n",
      "False\n",
      "True\n"
     ]
    }
   ],
   "source": [
    "# 비교연산\n",
    "a = 3\n",
    "b = 5\n",
    "print(a > b)\n",
    "print(a < b)\n",
    "print(a <= b)\n",
    "print(a >= b)\n",
    "print(a == b)\n",
    "print(a != b)\n",
    "print(a is b)\n",
    "print(a is not b)"
   ]
  },
  {
   "cell_type": "code",
   "execution_count": 15,
   "metadata": {},
   "outputs": [
    {
     "name": "stdout",
     "output_type": "stream",
     "text": [
      "3.3 <class 'float'>\n",
      "3 <class 'int'>\n",
      "3.0 <class 'float'>\n",
      "True <class 'bool'>\n",
      "True <class 'str'>\n"
     ]
    }
   ],
   "source": [
    "a = 3.3\n",
    "print(a,  type(a))\n",
    "\n",
    "a = int(a)\n",
    "print(a,  type(a))\n",
    "\n",
    "a = float(a)\n",
    "print(a,  type(a))\n",
    "\n",
    "a = bool(a)\n",
    "print(a,  type(a))\n",
    "\n",
    "a = str(a)\n",
    "print(a,  type(a))"
   ]
  },
  {
   "cell_type": "markdown",
   "metadata": {},
   "source": [
    "## 5. 변수간의 연산"
   ]
  },
  {
   "cell_type": "code",
   "execution_count": 16,
   "metadata": {},
   "outputs": [
    {
     "name": "stdout",
     "output_type": "stream",
     "text": [
      "40\n",
      "-20\n",
      "300\n",
      "0.3333333333333333\n"
     ]
    }
   ],
   "source": [
    "a = 10\n",
    "b = 30\n",
    "print(a+b)\n",
    "print(a-b)\n",
    "print(a*b)\n",
    "print(a/b)"
   ]
  },
  {
   "cell_type": "code",
   "execution_count": 17,
   "metadata": {},
   "outputs": [
    {
     "name": "stdout",
     "output_type": "stream",
     "text": [
      "<class 'int'> 10\n",
      "<class 'float'> 1.0\n",
      "<class 'float'> 11.0\n"
     ]
    }
   ],
   "source": [
    "# 타입이 다른 숫자형 변수들간의 형 변환\n",
    "a = 10\n",
    "b = 1.0\n",
    "print(type(a), a)\n",
    "print(type(b), b)\n",
    "print(type(a+b),a+b)"
   ]
  },
  {
   "cell_type": "markdown",
   "metadata": {},
   "source": [
    "### Q.1 월급은 얼마?"
   ]
  },
  {
   "cell_type": "code",
   "execution_count": 18,
   "metadata": {},
   "outputs": [
    {
     "name": "stdout",
     "output_type": "stream",
     "text": [
      "제 연봉은 6000만원이고, 월급은 0만원 입니다\n"
     ]
    }
   ],
   "source": [
    "yearly_salary = 6000\n",
    "monthly_salary = 0 #TODO\n",
    "print(\"제 연봉은 {}만원이고, 월급은 {}만원 입니다\".format(yearly_salary, monthly_salary))"
   ]
  },
  {
   "cell_type": "markdown",
   "metadata": {},
   "source": [
    "### Q.2 시급은 얼마?"
   ]
  },
  {
   "cell_type": "code",
   "execution_count": 19,
   "metadata": {},
   "outputs": [
    {
     "name": "stdout",
     "output_type": "stream",
     "text": [
      "제 연봉은 6000만원이고, 시급은 0만원 입니다\n"
     ]
    }
   ],
   "source": [
    "yearly_salary = 6000\n",
    "hourly_salary = 0 #TODO\n",
    "print(\"제 연봉은 {}만원이고, 시급은 {}만원 입니다\".format(yearly_salary, hourly_salary))"
   ]
  },
  {
   "cell_type": "code",
   "execution_count": null,
   "metadata": {},
   "outputs": [],
   "source": []
  }
 ],
 "metadata": {
  "kernelspec": {
   "display_name": "Python 3",
   "language": "python",
   "name": "python3"
  },
  "language_info": {
   "codemirror_mode": {
    "name": "ipython",
    "version": 3
   },
   "file_extension": ".py",
   "mimetype": "text/x-python",
   "name": "python",
   "nbconvert_exporter": "python",
   "pygments_lexer": "ipython3",
   "version": "3.7.6"
  }
 },
 "nbformat": 4,
 "nbformat_minor": 4
}
