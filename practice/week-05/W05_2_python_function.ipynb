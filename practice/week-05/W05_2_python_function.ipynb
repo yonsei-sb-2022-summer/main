{
 "cells": [
  {
   "cell_type": "markdown",
   "metadata": {},
   "source": [
    "# BIG DATA ANALYSIS : Python Function 2\n",
    "---"
   ]
  },
  {
   "cell_type": "markdown",
   "metadata": {},
   "source": [
    "## 2. 함수 응용\n"
   ]
  },
  {
   "cell_type": "markdown",
   "metadata": {},
   "source": [
    "### 2-1. 복수의 값 반환\n"
   ]
  },
  {
   "cell_type": "code",
   "execution_count": null,
   "metadata": {},
   "outputs": [],
   "source": [
    "string_data = \"안녕하세요, 빅데이터 분석 프로그래밍은 매주 토요일 6시에 시작됩니다.\""
   ]
  },
  {
   "cell_type": "code",
   "execution_count": null,
   "metadata": {},
   "outputs": [],
   "source": [
    "def analyze_str(string_data=\"\"):\n",
    "    num_of_chars = len(string_data)\n",
    "    num_of_blanks = string_data.count(\" \")\n",
    "    num_of_words = len(string_data.split(\" \"))\n",
    "    return num_of_chars, num_of_blanks, num_of_words\n",
    "    "
   ]
  },
  {
   "cell_type": "code",
   "execution_count": null,
   "metadata": {},
   "outputs": [],
   "source": [
    "analyze_str(string_data)"
   ]
  },
  {
   "cell_type": "code",
   "execution_count": null,
   "metadata": {},
   "outputs": [],
   "source": [
    "type(analyze_str(string_data))"
   ]
  },
  {
   "cell_type": "code",
   "execution_count": null,
   "metadata": {},
   "outputs": [],
   "source": [
    "num_of_chars, num_of_blanks, num_of_words  = analyze_str(string_data)"
   ]
  },
  {
   "cell_type": "markdown",
   "metadata": {},
   "source": [
    "### 2-2. 함수에서 함수 호출"
   ]
  },
  {
   "cell_type": "code",
   "execution_count": null,
   "metadata": {},
   "outputs": [],
   "source": [
    "def get_num_of_numeric(text):\n",
    "    cnt = 0\n",
    "    for char in text:\n",
    "        if char >= \"0\" and char <= \"9\":\n",
    "            cnt+=1\n",
    "    return cnt"
   ]
  },
  {
   "cell_type": "code",
   "execution_count": null,
   "metadata": {},
   "outputs": [],
   "source": [
    "get_num_of_numeric(string_data)"
   ]
  },
  {
   "cell_type": "code",
   "execution_count": null,
   "metadata": {},
   "outputs": [],
   "source": [
    "def analyze_str(string_data=\"\"):\n",
    "    num_of_chars = len(string_data)\n",
    "    num_of_blanks = string_data.count(\" \")\n",
    "    num_of_words = len(string_data.split(\" \"))\n",
    "    \n",
    "    num_of_numbers = get_num_of_numeric(string_data)\n",
    "    \n",
    "    return num_of_chars, num_of_blanks, num_of_words, num_of_numbers\n",
    "    "
   ]
  },
  {
   "cell_type": "code",
   "execution_count": null,
   "metadata": {},
   "outputs": [],
   "source": [
    "num_of_chars, num_of_blanks, num_of_words, num_of_numbers  =\\\n",
    "analyze_str(string_data)"
   ]
  },
  {
   "cell_type": "code",
   "execution_count": null,
   "metadata": {},
   "outputs": [],
   "source": [
    "num_of_chars, num_of_blanks, num_of_words, num_of_numbers"
   ]
  },
  {
   "cell_type": "code",
   "execution_count": null,
   "metadata": {},
   "outputs": [],
   "source": [
    "# Q1. 초를 입력했을 때 시:분:초 형태로 반환하는 함수 작성\n",
    "def get_time(sec):\n",
    "    #TODO 코드 작성\n",
    "    return \"00:00:00\"\n",
    "get_time(3000)"
   ]
  },
  {
   "cell_type": "code",
   "execution_count": null,
   "metadata": {},
   "outputs": [],
   "source": [
    "# Q2. 시:분:초 형태로 값을 입력했을 시 초로 반환하는 함수 작성"
   ]
  },
  {
   "cell_type": "code",
   "execution_count": null,
   "metadata": {},
   "outputs": [],
   "source": [
    "def get_sec(time_str):\n",
    "    #TODO 코드 작성\n",
    "    return 100\n",
    "get_sec(\"13:22:30\")"
   ]
  },
  {
   "cell_type": "markdown",
   "metadata": {},
   "source": [
    "### 2-3. 변수의 범위(scope)"
   ]
  },
  {
   "cell_type": "code",
   "execution_count": null,
   "metadata": {},
   "outputs": [],
   "source": [
    "# 전역 변수\n",
    "x = 300\n",
    "\n",
    "def myfunc():\n",
    "    print(x)\n",
    "\n",
    "myfunc()\n",
    "\n",
    "print(x)"
   ]
  },
  {
   "cell_type": "code",
   "execution_count": null,
   "metadata": {},
   "outputs": [],
   "source": [
    "#전역변수\n",
    "x = 400\n",
    "def myfunc():\n",
    "    #지역변수\n",
    "    x = 200\n",
    "    y = 100\n",
    "    print(x)\n",
    "\n",
    "myfunc()\n",
    "\n",
    "print(x)\n",
    "print(y)"
   ]
  },
  {
   "cell_type": "code",
   "execution_count": null,
   "metadata": {},
   "outputs": [],
   "source": [
    "def outer_func():\n",
    "    x = 2\n",
    "    def inner_func():\n",
    "        x = 3\n",
    "        print(x)\n",
    "    inner_func()\n",
    "    print(x)\n",
    "\n",
    "x = 1\n",
    "outer_func()\n",
    "print(x)\n"
   ]
  }
 ],
 "metadata": {
  "kernelspec": {
   "display_name": "Python 3",
   "language": "python",
   "name": "python3"
  },
  "language_info": {
   "codemirror_mode": {
    "name": "ipython",
    "version": 3
   },
   "file_extension": ".py",
   "mimetype": "text/x-python",
   "name": "python",
   "nbconvert_exporter": "python",
   "pygments_lexer": "ipython3",
   "version": "3.7.6"
  }
 },
 "nbformat": 4,
 "nbformat_minor": 2
}
