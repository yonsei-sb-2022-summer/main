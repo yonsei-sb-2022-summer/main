{
 "cells": [
  {
   "cell_type": "markdown",
   "metadata": {},
   "source": [
    "# 과제 설명\n",
    "- 아래의 문제에 TODO라고 되어있는 부분을 수정하여 올바른 결과값을 만들어주세요!\n",
    "- 수업에서 배운 내용 및 힌트외에는 사용하지 말아주세요!\n",
    "- 모든 문제는 한줄로 끝낼 수 있습니다!\n",
    "- 총 16점 각 4점\n"
   ]
  },
  {
   "cell_type": "markdown",
   "metadata": {},
   "source": [
    "## 1. Min, Max\n",
    "두개의 List가 있습니다. 하나는 성적을 나타내고, 다른 하나는 그 성적에 해당하는 학생의 이름을 나타냅니다. 가장 높은 점수와 그에 해당하는 학생, 그리고 가장 낮은 점수와 그에 해당하는 학생을 구하세요! (중복된 점수는 없다고 가정합니다)"
   ]
  },
  {
   "cell_type": "code",
   "execution_count": 1,
   "metadata": {},
   "outputs": [],
   "source": [
    "scores = [20,30,55,85,6,33]\n",
    "students = ['흥민','연아','중기','연경','세리','찬호']"
   ]
  },
  {
   "cell_type": "markdown",
   "metadata": {},
   "source": [
    "- best_score는 85가 나오고, best_student는 연경이 나와야합니다!\n",
    "- worst_score 6이 나오고, worst_student 세리가 나와야합니다!\n",
    "- 학생을 구할 때는 점수의 index 값을 이용하여, 학생 list에서 해당하는 index의 학생을 뽑아야 합니다!\n",
    "- hint: https://www.w3schools.com/python/ref_list_index.asp"
   ]
  },
  {
   "cell_type": "code",
   "execution_count": 2,
   "metadata": {},
   "outputs": [],
   "source": [
    "#best score\n",
    "best_score = 0 #TODO\n",
    "#best student\n",
    "best_student = '' #TODO\n",
    "print(best_score, best_student)"
   ]
  },
  {
   "cell_type": "code",
   "execution_count": 3,
   "metadata": {},
   "outputs": [],
   "source": [
    "#best score\n",
    "worst_score = 0 #TODO\n",
    "#worst student\n",
    "worst_student = '' #TODO\n",
    "print(worst_score, worst_student)"
   ]
  },
  {
   "cell_type": "markdown",
   "metadata": {},
   "source": [
    "## 2. Top-N\n",
    "이번에는 상위 3명의 학생에게 상을 주기로 했습니다. 점수가 높은 순으로 상위 3명의 학생의 점수와 이름을 뽑아주세요.\n",
    "- hint: list(zip(scores,students))\n",
    "- hint: sorted"
   ]
  },
  {
   "cell_type": "code",
   "execution_count": 4,
   "metadata": {},
   "outputs": [],
   "source": [
    "scores = [20,30,55,85,6,33]\n",
    "students = ['흥민','연아','중기','연경','세리','찬호']"
   ]
  },
  {
   "cell_type": "code",
   "execution_count": 5,
   "metadata": {},
   "outputs": [],
   "source": [
    "## Top-n\n",
    "n = 3\n",
    "\n",
    "top_n = [] #TODO\n",
    "\n",
    "\n",
    "print(top_n)"
   ]
  },
  {
   "cell_type": "markdown",
   "metadata": {},
   "source": [
    "## 3. Unique \n",
    "아래는 식당에서 주문된 음료수의 목록입니다. 고유한 가짓수는 몇 개일까요?"
   ]
  },
  {
   "cell_type": "code",
   "execution_count": 6,
   "metadata": {},
   "outputs": [],
   "source": [
    "drinks = ['맥주','소주','소주','막걸리','콜라','콜라','콜라']\n",
    "unique_num_of_drinks = 0 #TODO\n",
    "print(unique_num_of_drinks)  # 4가 나와야 겠죠?"
   ]
  },
  {
   "cell_type": "markdown",
   "metadata": {},
   "source": [
    "## 4. Order by K,V\n",
    "이번에는 아래와 같이 Dictionary 형태로 이름과 점수가 표현되어있습니다. 학생들을 이름 기준으로 오름차순, 점수 기준으로 오름차순으로 각각 정렬해주세요!\n",
    "- hint: https://gomguard.tistory.com/127"
   ]
  },
  {
   "cell_type": "code",
   "execution_count": 7,
   "metadata": {},
   "outputs": [],
   "source": [
    "scores = {\n",
    "    '흥민':50,\n",
    "    '연아': 100,\n",
    "    '연경': 30,\n",
    "    '세리': 100\n",
    "}"
   ]
  },
  {
   "cell_type": "code",
   "execution_count": 8,
   "metadata": {},
   "outputs": [],
   "source": [
    "order_by_name = []\n",
    "print(order_by_name)"
   ]
  },
  {
   "cell_type": "code",
   "execution_count": 9,
   "metadata": {},
   "outputs": [],
   "source": [
    "order_by_score = []\n",
    "print(order_by_score)"
   ]
  }
 ],
 "metadata": {
  "kernelspec": {
   "display_name": "Python 3",
   "language": "python",
   "name": "python3"
  },
  "language_info": {
   "codemirror_mode": {
    "name": "ipython",
    "version": 3
   },
   "file_extension": ".py",
   "mimetype": "text/x-python",
   "name": "python",
   "nbconvert_exporter": "python",
   "pygments_lexer": "ipython3",
   "version": "3.7.6"
  }
 },
 "nbformat": 4,
 "nbformat_minor": 4
}
