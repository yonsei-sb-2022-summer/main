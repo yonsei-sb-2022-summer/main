{
 "cells": [
  {
   "cell_type": "markdown",
   "metadata": {},
   "source": [
    "# 과제 설명\n",
    "- 아래의 문제에 TODO라고 되어있는 부분을 수학적 연산을 활용하여, 미리 선언된 변수와 숫자의 조합으로 결과값을 구해보세요!\n",
    "- 단순히 숫자를 입력하는 경우 0점 처리\n",
    "- 다른 숫자를 입력했을때 결과값이 틀리다면 1점처리\n",
    "- 문제에서 사용하지 말라고 했던 것을 사용했을시 1점처리\n",
    "- 총 10점 각 2점\n"
   ]
  },
  {
   "cell_type": "markdown",
   "metadata": {},
   "source": [
    "### 0. 연습문제 (0점)\n",
    "a+b를 해주세요!"
   ]
  },
  {
   "cell_type": "code",
   "execution_count": 1,
   "metadata": {},
   "outputs": [
    {
     "name": "stdout",
     "output_type": "stream",
     "text": [
      "0\n"
     ]
    }
   ],
   "source": [
    "a = 1\n",
    "b = 3\n",
    "c = 0 #TODO\n",
    "print(c)"
   ]
  },
  {
   "cell_type": "markdown",
   "metadata": {},
   "source": [
    "### 1. root 계산\n",
    "* sqrt와 같은 함수를 사용하지 마세요!\n",
    "* $\\sqrt{5}$ = ?"
   ]
  },
  {
   "cell_type": "code",
   "execution_count": 2,
   "metadata": {},
   "outputs": [
    {
     "name": "stdout",
     "output_type": "stream",
     "text": [
      "0\n"
     ]
    }
   ],
   "source": [
    "a = 5\n",
    "root_a = 0 #TODO\n",
    "print(root_a)"
   ]
  },
  {
   "cell_type": "markdown",
   "metadata": {},
   "source": [
    "### 2. 세금계산\n",
    "철수는 주식으로 올해 3000만원의 수익을 올렸습니다. 하지만 해외주식으로 수익을 올렸기 때문에 양도소득세를 내야합니다. 250만원 까지는 공제가 되고 그 외 금액에 대해서 22%의 세금을 내야한다면 철수는 얼마를 내야할까요?"
   ]
  },
  {
   "cell_type": "code",
   "execution_count": 3,
   "metadata": {},
   "outputs": [
    {
     "name": "stdout",
     "output_type": "stream",
     "text": [
      "철수가 내야하는 세금: 0만원\n"
     ]
    }
   ],
   "source": [
    "total = 3000\n",
    "tax_rate = 0.22\n",
    "tax_reduction = 250\n",
    "total_tax = 0 #TODO\n",
    "print(\"철수가 내야하는 세금: {}만원\".format(total_tax))"
   ]
  },
  {
   "cell_type": "markdown",
   "metadata": {},
   "source": [
    "### 3. 교실 확보 \n",
    "코로나로 인해 한 반에 최대 수강할 수 있는 학생이 10명으로 제한되었습니다. 131명의 학생을 수용하기 위해서는 몇개의 교실이 필요할까요?\n",
    "\n",
    "- 모든 학생은 수업을 들어야합니다!\n",
    "- [hint](https://www.google.com/search?q=python%20math%20ceiling)"
   ]
  },
  {
   "cell_type": "code",
   "execution_count": 4,
   "metadata": {},
   "outputs": [
    {
     "name": "stdout",
     "output_type": "stream",
     "text": [
      "필요한 교실의 개수: 0\n"
     ]
    }
   ],
   "source": [
    "import math\n",
    "\n",
    "total_student = 131\n",
    "limit = 10\n",
    "total_classroom = 0 #TODO\n",
    "print(\"필요한 교실의 개수: {}\".format(total_classroom))"
   ]
  },
  {
   "cell_type": "markdown",
   "metadata": {},
   "source": [
    "### 4. 복리의 마법\n",
    "영희는 올해 비트코인으로 큰 돈을 벌었습니다. 비법을 물어보니, 욕심부리지 않고 10%씩만 먹고 바로 청산을 한다고 합니다. 이를 들은 철수는 같은 방식으로 10번의 이득을 얻었는데, 철수의 현재 자산은 초기 자금에 몇배일까요?\n",
    "* 지수계산하는 법을 사용해주세요!"
   ]
  },
  {
   "cell_type": "code",
   "execution_count": 5,
   "metadata": {},
   "outputs": [
    {
     "name": "stdout",
     "output_type": "stream",
     "text": [
      "0배\n"
     ]
    }
   ],
   "source": [
    "rate = 0.1\n",
    "times = 10\n",
    "total = 0 #TODO\n",
    "print(\"{}배\".format(total))"
   ]
  },
  {
   "cell_type": "markdown",
   "metadata": {},
   "source": [
    "## 5. 피타고라스의 정리\n",
    "기하학에서, 피타고라스 정리는 \"직각 삼각형의 빗변의 제곱이 두 직각변의 제곱의 합과 같다\"는 정리입니다.\n",
    "다음과 같이 삼각형의 두변의 길이가 주어졌을때 나머지 한변의 길이를 피타고라스의 정리를 이용하여 구해주세요<br>\n",
    "- $a^2+b^2=c^2$<br>\n",
    "- $c = \\sqrt{a^2+b^2}$"
   ]
  },
  {
   "cell_type": "code",
   "execution_count": 6,
   "metadata": {},
   "outputs": [
    {
     "name": "stdout",
     "output_type": "stream",
     "text": [
      "c의 길이는 0\n"
     ]
    }
   ],
   "source": [
    "a = 3\n",
    "b = 4\n",
    "c = 0 #TODO\n",
    "print(\"c의 길이는\", c)"
   ]
  }
 ],
 "metadata": {
  "kernelspec": {
   "display_name": "Python 3",
   "language": "python",
   "name": "python3"
  },
  "language_info": {
   "codemirror_mode": {
    "name": "ipython",
    "version": 3
   },
   "file_extension": ".py",
   "mimetype": "text/x-python",
   "name": "python",
   "nbconvert_exporter": "python",
   "pygments_lexer": "ipython3",
   "version": "3.7.6"
  }
 },
 "nbformat": 4,
 "nbformat_minor": 4
}
