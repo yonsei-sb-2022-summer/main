{
 "cells": [
  {
   "cell_type": "markdown",
   "metadata": {},
   "source": [
    "## 1. 평균구하기 (4점)\n",
    "data가 dictionary 형태로 주어졌을때, 특정학생의 평균을 구하는 함수를 완성해주세요.\n",
    "예를들어 아래 함수에 데이터와 흥민이라는 이름을 넣었을때 흥민이의 평균 (100+30+55)/3 = 61.666을 반환하는 함수를 완성해주세요. \n",
    "- 전체 데이터와 이름을 동시에 받는 함수입니다."
   ]
  },
  {
   "cell_type": "code",
   "execution_count": 1,
   "metadata": {},
   "outputs": [
    {
     "name": "stdout",
     "output_type": "stream",
     "text": [
      "0.0\n",
      "0.0\n"
     ]
    }
   ],
   "source": [
    "\n",
    "def get_average(data, name):\n",
    "    avg = 0.0\n",
    "    #TODO \n",
    "    ## hint: data[name] 이런식으로 특정 사람의 값에 접근 할 수 있습니다!\n",
    "    return avg\n",
    "\n",
    "data = {'흥민':[100,30,55], '연아':[90,80,85]}\n",
    "\n",
    "print(get_average(data, '흥민'))\n",
    "print(get_average(data, '연아'))"
   ]
  },
  {
   "cell_type": "markdown",
   "metadata": {},
   "source": [
    "## 2. 가장 많이 등장하는 단어 구하기  (4점)\n",
    "아래에 리스트 형태로 되어있는 단어들이 있습니다. 함수에 넣어서 가장 빈번하게 등장하는 단어를 반환해주세요\n",
    "- hint: dictionary에 데이터를 counting하면서 넣으시고, value 기준 내림 차순 정렬을 해주세요."
   ]
  },
  {
   "cell_type": "code",
   "execution_count": 2,
   "metadata": {},
   "outputs": [
    {
     "name": "stdout",
     "output_type": "stream",
     "text": [
      "\n"
     ]
    }
   ],
   "source": [
    "def get_most_frequent_word(data):\n",
    "    word = ''\n",
    "    # TODO\n",
    "    # hint: 아래 코드는 각각의 단어의 개수에 단순하게 1을 입력하는 방식입니다.\n",
    "    # 조건문을 활용해 이미 있는 단어에는 +1을 해주세요!\n",
    "     \n",
    "#     counting_dict = {}\n",
    "#     for ele in data:\n",
    "#         counting_dict[ele] = 1\n",
    "    \n",
    "    # 이 부분에서 sorted와 counting_dict.items를 활용해서 가장 많이 등장한 단어를 골라주세요\n",
    "    \n",
    "    return word\n",
    "\n",
    "data = ['노트북', '노트북', '이어폰', '선인장','종이컵','종이컵','신발','슬리퍼','종이컵']\n",
    "print(get_most_frequent_word(data))\n"
   ]
  },
  {
   "cell_type": "markdown",
   "metadata": {},
   "source": [
    "## 3. 이름 순서 바꾸기  (4점)\n",
    "\n",
    "한국은 성+이름 순서로 이름을 작성하지만, 영어권 국가에서는 이름+성 순으로 이름을 작성합니다. 아래에 사람들이 이름이 리스트로 구성되어 있습니다. 각각의 이름을 이름+성 순서로 바꿔주세요!\n",
    "\n",
    "이때, 모든 이름은 3글자에 성은 1글자라고 가정하겠습니다. \n",
    "\n",
    "- 변환전: ['손흥민',...]\n",
    "- 변환후: ['흥민손',...]\n",
    "\n",
    "- 참고사항: list의 경우 mutable 변수이므로, 반환을 하지 않고 인덱스로 접근 하셔서 원본을 변경하실 수 있습니다. "
   ]
  },
  {
   "cell_type": "code",
   "execution_count": 3,
   "metadata": {},
   "outputs": [
    {
     "name": "stdout",
     "output_type": "stream",
     "text": [
      "['손흥민', '김연아', '박세리', '박찬호', '김연경', '류현진']\n"
     ]
    }
   ],
   "source": [
    "\n",
    "def change_name(data):\n",
    "    #TODO \n",
    "    ## hint\n",
    "\n",
    "#     for i, _ in enumerate(data):\n",
    "#         data[i] = data[i] #이 부분에서 이름의 순서를 바꿔주세요!\n",
    "    pass\n",
    "\n",
    "\n",
    "data = ['손흥민','김연아','박세리','박찬호','김연경','류현진']\n",
    "\n",
    "change_name(data)\n",
    "print(data)"
   ]
  },
  {
   "cell_type": "markdown",
   "metadata": {},
   "source": [
    "## 4. 함수에서 함수 호출  (4점)\n",
    "\n",
    "미국의 경우 길이 단위를 cm가 아닌 inch를 사용하곤 합니다. 아래 data에 주어진 사람들의 키를 cm_to_inch함수를 사용하여 각각 cm에서 inch로 바꿔주세요!\n",
    "\n",
    "- 참고사항: dictionary 같은 경우에도 mutable 하기 때문에, 원본의 height를 바꿔주시면 됩니다. 추가적인 반환은 필요없습니다."
   ]
  },
  {
   "cell_type": "code",
   "execution_count": 4,
   "metadata": {},
   "outputs": [
    {
     "name": "stdout",
     "output_type": "stream",
     "text": [
      "[{'name': '손흥민', 'height': 183}, {'name': '김연아', 'height': 164}, {'name': '박세리', 'height': 168}, {'name': '김연경', 'height': 192}]\n"
     ]
    }
   ],
   "source": [
    "def cm_to_inch(val):\n",
    "    return val*0.393701\n",
    "\n",
    "def convert_height(data):\n",
    "    #TODO\n",
    "    pass\n",
    "\n",
    "data = [\n",
    "    {\n",
    "        'name':'손흥민',\n",
    "        'height': 183\n",
    "    },\n",
    "    {\n",
    "        'name':'김연아',\n",
    "        'height': 164\n",
    "    },\n",
    "    {\n",
    "        'name':'박세리',\n",
    "        'height': 168\n",
    "    },\n",
    "    {\n",
    "        'name':'김연경',\n",
    "        'height':192\n",
    "    }\n",
    "    \n",
    "]\n",
    "\n",
    "\n",
    "convert_height(data)\n",
    "\n",
    "print(data)"
   ]
  },
  {
   "cell_type": "markdown",
   "metadata": {},
   "source": [
    "## 5. Class 예제  (4점)\n",
    "\n",
    "Point라는 클래스는 x좌표와 y좌표를 둘다 갖고 있는 좌표입니다.\n",
    "\n",
    "get_distance함수에 point1, point2를 넣었을때 두 점사이의 거리를 구하는 함수를 완성해주세요!"
   ]
  },
  {
   "cell_type": "code",
   "execution_count": 5,
   "metadata": {},
   "outputs": [
    {
     "name": "stdout",
     "output_type": "stream",
     "text": [
      "0.0\n"
     ]
    }
   ],
   "source": [
    "def get_distance(a,b):\n",
    "    dis = 0.0\n",
    "    #TODO\n",
    "    return dis\n",
    "\n",
    "class Point:\n",
    "    def __init__(self,x,y):\n",
    "        self.x = x\n",
    "        self.y = y\n",
    "        \n",
    "        \n",
    "point1 = Point(0,0)\n",
    "point2 = Point(3,4)\n",
    "\n",
    "dis = get_distance(point1, point2)\n",
    "print(dis)"
   ]
  },
  {
   "cell_type": "code",
   "execution_count": null,
   "metadata": {},
   "outputs": [],
   "source": []
  }
 ],
 "metadata": {
  "kernelspec": {
   "display_name": "Python 3 (ipykernel)",
   "language": "python",
   "name": "python3"
  },
  "language_info": {
   "codemirror_mode": {
    "name": "ipython",
    "version": 3
   },
   "file_extension": ".py",
   "mimetype": "text/x-python",
   "name": "python",
   "nbconvert_exporter": "python",
   "pygments_lexer": "ipython3",
   "version": "3.9.7"
  }
 },
 "nbformat": 4,
 "nbformat_minor": 4
}
